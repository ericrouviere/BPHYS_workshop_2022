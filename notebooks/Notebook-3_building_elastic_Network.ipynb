{
 "cells": [
  {
   "cell_type": "markdown",
   "metadata": {},
   "source": [
    "# Notebook 3: Building the the elastic network\n",
    "\n",
    "In this note book we are going to build the elastic network model. The steps are as follows\n",
    "1. Lay points (nodes) down in 2d space to represent the position of each \"amino acid\". This will be our model's \"structure\".\n",
    "2. Connect nodes together by making an adjacency matrix. "
   ]
  },
  {
   "cell_type": "markdown",
   "metadata": {},
   "source": [
    "## Step 1: Laying points on a lattice.\n",
    "#### We will first lay down points on a triangular lattice. A lattice is defined by a set of lattice vectors. For a triangular lattice (2d) the lattice vectors are\n",
    "\n",
    "#### $u_1 = (\\cos \\frac{\\pi}{6} , \\sin \\frac{\\pi}{6} )$  and  $u_2 = (0,1)$\n",
    "\n",
    "#### if $a$ and $b$ are integers then all lattice points can be described as, \n",
    "\n",
    "#### $ r = a u_1  + b u_2$\n",
    "\n",
    "#### Let's now write some code!"
   ]
  },
  {
   "cell_type": "code",
   "execution_count": 1,
   "metadata": {},
   "outputs": [
    {
     "data": {
      "text/plain": [
       "2-element Vector{Int64}:\n",
       " 0\n",
       " 1"
      ]
     },
     "metadata": {},
     "output_type": "display_data"
    }
   ],
   "source": [
    "using PyPlot\n",
    "u1 = [cos(pi/6), sin(pi/6)]\n",
    "u2 = [0, 1]"
   ]
  },
  {
   "cell_type": "code",
   "execution_count": 2,
   "metadata": {},
   "outputs": [
    {
     "data": {
      "text/plain": [
       "(-0.04330127018922194, 0.9093266739736606, -0.05, 1.05)"
      ]
     },
     "metadata": {},
     "output_type": "display_data"
    }
   ],
   "source": [
    "# plot u1 and u2\n",
    "fig, ax = subplots()\n",
    "ax.plot( [0,u1[1]], [0, u1[2]] )\n",
    "ax.plot( [0,u2[1]], [0, u2[2]] )\n",
    "ax.axis(\"equal\")"
   ]
  },
  {
   "cell_type": "code",
   "execution_count": 5,
   "metadata": {},
   "outputs": [
    {
     "data": {
      "text/plain": [
       "100×2 Matrix{Float64}:\n",
       " 0.866025   1.5\n",
       " 0.866025   2.5\n",
       " 0.866025   3.5\n",
       " 0.866025   4.5\n",
       " 0.866025   5.5\n",
       " 0.866025   6.5\n",
       " 0.866025   7.5\n",
       " 0.866025   8.5\n",
       " 0.866025   9.5\n",
       " 0.866025  10.5\n",
       " ⋮         \n",
       " 8.66025    7.0\n",
       " 8.66025    8.0\n",
       " 8.66025    9.0\n",
       " 8.66025   10.0\n",
       " 8.66025   11.0\n",
       " 8.66025   12.0\n",
       " 8.66025   13.0\n",
       " 8.66025   14.0\n",
       " 8.66025   15.0"
      ]
     },
     "metadata": {},
     "output_type": "display_data"
    }
   ],
   "source": [
    "W  = 10 # width of lattice\n",
    "L = 10  # length of lattice \n",
    "xy = zeros(W*L, 2)\n",
    "k,c = 0,0\n",
    "for i in 1:L\n",
    "    for j in 1:W\n",
    "        k += 1\n",
    "        xy[k,:] = i * u1 .+ j * u2\n",
    "    end\n",
    "end\n",
    "xy"
   ]
  },
  {
   "cell_type": "code",
   "execution_count": 6,
   "metadata": {},
   "outputs": [
    {
     "data": {
      "text/plain": [
       "(0.4696607462749896, 9.056618695353837, 0.8160714285714286, 15.683928571428572)"
      ]
     },
     "metadata": {},
     "output_type": "display_data"
    }
   ],
   "source": [
    "fig, ax = subplots()\n",
    "scatter(xy[:,1], xy[:,2])\n",
    "ax.axis(\"equal\")"
   ]
  },
  {
   "cell_type": "markdown",
   "metadata": {},
   "source": [
    "#### It's a triangular lattice by not exactly the square shape we want. With a small tweek..."
   ]
  },
  {
   "cell_type": "code",
   "execution_count": 54,
   "metadata": {},
   "outputs": [
    {
     "data": {
      "image/png": "[encoded data removed]",
      "text/plain": [
       "Figure(PyObject <Figure size 640x480 with 1 Axes>)"
      ]
     },
     "metadata": {},
     "output_type": "display_data"
    },
    {
     "data": {
      "text/plain": [
       "(0.4696607462749896, 9.056618695353837, 1.0160714285714278, 11.483928571428573)"
      ]
     },
     "execution_count": 54,
     "metadata": {},
     "output_type": "execute_result"
    }
   ],
   "source": [
    "W  = 10 # width of lattice\n",
    "L = 10  # length of lattice \n",
    "xy = zeros(W*L, 2)\n",
    "k,c = 0,0\n",
    "for i in 1:L\n",
    "    for j in 1:W\n",
    "        k += 1\n",
    "        b = j + c\n",
    "        xy[k,:] = i * u1 .+ b * u2\n",
    "    end\n",
    "    if i % 2 ==0\n",
    "        c -= 1\n",
    "    end \n",
    "end\n",
    "\n",
    "fig, ax = subplots()\n",
    "scatter(xy[:,1], xy[:,2])\n",
    "ax.axis(\"equal\")"
   ]
  },
  {
   "cell_type": "markdown",
   "metadata": {},
   "source": [
    "#### Ah thats better. Now lets wrap it up in a function. Julia is all about breaking code up into many small functions."
   ]
  },
  {
   "cell_type": "code",
   "execution_count": 93,
   "metadata": {},
   "outputs": [
    {
     "data": {
      "text/plain": [
       "100×2 Matrix{Float64}:\n",
       " 0.866025   1.5\n",
       " 0.866025   2.5\n",
       " 0.866025   3.5\n",
       " 0.866025   4.5\n",
       " 0.866025   5.5\n",
       " 0.866025   6.5\n",
       " 0.866025   7.5\n",
       " 0.866025   8.5\n",
       " 0.866025   9.5\n",
       " 0.866025  10.5\n",
       " 1.73205    2.0\n",
       " 1.73205    3.0\n",
       " 1.73205    4.0\n",
       " ⋮         \n",
       " 7.79423    9.5\n",
       " 7.79423   10.5\n",
       " 8.66025    2.0\n",
       " 8.66025    3.0\n",
       " 8.66025    4.0\n",
       " 8.66025    5.0\n",
       " 8.66025    6.0\n",
       " 8.66025    7.0\n",
       " 8.66025    8.0\n",
       " 8.66025    9.0\n",
       " 8.66025   10.0\n",
       " 8.66025   11.0"
      ]
     },
     "execution_count": 93,
     "metadata": {},
     "output_type": "execute_result"
    }
   ],
   "source": [
    "function drawLattice(W,L)\n",
    "    u1 = [cos(pi/6), sin(pi/6)]\n",
    "    u2 = [0, 1] \n",
    "    xy = zeros(W*L, 2)\n",
    "    k,c = 0,0\n",
    "    for i in 1:L\n",
    "        for j in 1:W\n",
    "            k += 1\n",
    "            b = j + c\n",
    "            xy[k,:] = i * u1 .+ b * u2\n",
    "        end\n",
    "        if i % 2 ==0\n",
    "            c -= 1\n",
    "        end \n",
    "    end\n",
    "    return xy\n",
    "end\n",
    "xy = drawLattice(10,10)"
   ]
  },
  {
   "cell_type": "markdown",
   "metadata": {},
   "source": [
    "## Building the adjacency matrix\n",
    "#### Now lets define how nodes are connected to each other. We do this with an adjacency matrix $A$ whose element are defined as,\n",
    "\n",
    "#### $A_{ij} = A_{ij} =  1$ if the ith and jth nodes are connected to a spring. \\\n",
    "#### $A_{ij} = 0$ otherwise. \n",
    "\n",
    "#### We are going to connect nodes to their nearest neighbors. "
   ]
  },
  {
   "cell_type": "code",
   "execution_count": 62,
   "metadata": {},
   "outputs": [
    {
     "data": {
      "text/plain": [
       "100×100 Matrix{Float64}:\n",
       " 1.0  1.0  0.0  0.0  0.0  0.0  0.0  0.0  …  0.0  0.0  0.0  0.0  0.0  0.0  0.0\n",
       " 1.0  1.0  1.0  0.0  0.0  0.0  0.0  0.0     0.0  0.0  0.0  0.0  0.0  0.0  0.0\n",
       " 0.0  1.0  1.0  1.0  0.0  0.0  0.0  0.0     0.0  0.0  0.0  0.0  0.0  0.0  0.0\n",
       " 0.0  0.0  1.0  1.0  1.0  0.0  0.0  0.0     0.0  0.0  0.0  0.0  0.0  0.0  0.0\n",
       " 0.0  0.0  0.0  1.0  1.0  1.0  0.0  0.0     0.0  0.0  0.0  0.0  0.0  0.0  0.0\n",
       " 0.0  0.0  0.0  0.0  1.0  1.0  1.0  0.0  …  0.0  0.0  0.0  0.0  0.0  0.0  0.0\n",
       " 0.0  0.0  0.0  0.0  0.0  1.0  1.0  1.0     0.0  0.0  0.0  0.0  0.0  0.0  0.0\n",
       " 0.0  0.0  0.0  0.0  0.0  0.0  1.0  1.0     0.0  0.0  0.0  0.0  0.0  0.0  0.0\n",
       " 0.0  0.0  0.0  0.0  0.0  0.0  0.0  1.0     0.0  0.0  0.0  0.0  0.0  0.0  0.0\n",
       " 0.0  0.0  0.0  0.0  0.0  0.0  0.0  0.0     0.0  0.0  0.0  0.0  0.0  0.0  0.0\n",
       " 1.0  1.0  0.0  0.0  0.0  0.0  0.0  0.0  …  0.0  0.0  0.0  0.0  0.0  0.0  0.0\n",
       " 0.0  1.0  1.0  0.0  0.0  0.0  0.0  0.0     0.0  0.0  0.0  0.0  0.0  0.0  0.0\n",
       " 0.0  0.0  1.0  1.0  0.0  0.0  0.0  0.0     0.0  0.0  0.0  0.0  0.0  0.0  0.0\n",
       " ⋮                        ⋮              ⋱            ⋮                   \n",
       " 0.0  0.0  0.0  0.0  0.0  0.0  0.0  0.0     0.0  0.0  0.0  0.0  1.0  1.0  0.0\n",
       " 0.0  0.0  0.0  0.0  0.0  0.0  0.0  0.0     0.0  0.0  0.0  0.0  0.0  1.0  1.0\n",
       " 0.0  0.0  0.0  0.0  0.0  0.0  0.0  0.0  …  0.0  0.0  0.0  0.0  0.0  0.0  0.0\n",
       " 0.0  0.0  0.0  0.0  0.0  0.0  0.0  0.0     0.0  0.0  0.0  0.0  0.0  0.0  0.0\n",
       " 0.0  0.0  0.0  0.0  0.0  0.0  0.0  0.0     1.0  0.0  0.0  0.0  0.0  0.0  0.0\n",
       " 0.0  0.0  0.0  0.0  0.0  0.0  0.0  0.0     1.0  1.0  0.0  0.0  0.0  0.0  0.0\n",
       " 0.0  0.0  0.0  0.0  0.0  0.0  0.0  0.0     1.0  1.0  1.0  0.0  0.0  0.0  0.0\n",
       " 0.0  0.0  0.0  0.0  0.0  0.0  0.0  0.0  …  0.0  1.0  1.0  1.0  0.0  0.0  0.0\n",
       " 0.0  0.0  0.0  0.0  0.0  0.0  0.0  0.0     0.0  0.0  1.0  1.0  1.0  0.0  0.0\n",
       " 0.0  0.0  0.0  0.0  0.0  0.0  0.0  0.0     0.0  0.0  0.0  1.0  1.0  1.0  0.0\n",
       " 0.0  0.0  0.0  0.0  0.0  0.0  0.0  0.0     0.0  0.0  0.0  0.0  1.0  1.0  1.0\n",
       " 0.0  0.0  0.0  0.0  0.0  0.0  0.0  0.0     0.0  0.0  0.0  0.0  0.0  1.0  1.0"
      ]
     },
     "execution_count": 62,
     "metadata": {},
     "output_type": "execute_result"
    }
   ],
   "source": [
    "numNodes = W*L\n",
    "A = zeros(numNodes, numNodes) # initialize a matrix\n",
    "for i in 1:numNodes\n",
    "    for j in 1:numNodes\n",
    "        # compute the distance between nodes i and j\n",
    "        dx = xy[i,1] - xy[j,1]\n",
    "        dy = xy[i,2] - xy[j,2]\n",
    "        dist = sqrt(dx^2 + dy^2)\n",
    "        if dist < 1.1 # lattice spacing is 1.\n",
    "            A[i,j] = 1.0\n",
    "        end\n",
    "    end\n",
    "end\n",
    "A\n"
   ]
  },
  {
   "cell_type": "markdown",
   "metadata": {},
   "source": [
    "The adjacency matrix is effectively the \"contact map\" of our protein model."
   ]
  },
  {
   "cell_type": "code",
   "execution_count": 64,
   "metadata": {},
   "outputs": [
    {
     "data": {
      "image/png": "[encoded data removed]",
      "text/plain": [
       "Figure(PyObject <Figure size 640x480 with 1 Axes>)"
      ]
     },
     "metadata": {},
     "output_type": "display_data"
    },
    {
     "data": {
      "text/plain": [
       "PyObject <matplotlib.image.AxesImage object at 0x7f9f3f5fca90>"
      ]
     },
     "execution_count": 64,
     "metadata": {},
     "output_type": "execute_result"
    }
   ],
   "source": [
    "imshow(A)"
   ]
  },
  {
   "cell_type": "markdown",
   "metadata": {},
   "source": [
    "#### Again lets put this code into a function... The julia way."
   ]
  },
  {
   "cell_type": "code",
   "execution_count": 66,
   "metadata": {},
   "outputs": [
    {
     "data": {
      "text/plain": [
       "100×100 Matrix{Float64}:\n",
       " 1.0  1.0  0.0  0.0  0.0  0.0  0.0  0.0  …  0.0  0.0  0.0  0.0  0.0  0.0  0.0\n",
       " 1.0  1.0  1.0  0.0  0.0  0.0  0.0  0.0     0.0  0.0  0.0  0.0  0.0  0.0  0.0\n",
       " 0.0  1.0  1.0  1.0  0.0  0.0  0.0  0.0     0.0  0.0  0.0  0.0  0.0  0.0  0.0\n",
       " 0.0  0.0  1.0  1.0  1.0  0.0  0.0  0.0     0.0  0.0  0.0  0.0  0.0  0.0  0.0\n",
       " 0.0  0.0  0.0  1.0  1.0  1.0  0.0  0.0     0.0  0.0  0.0  0.0  0.0  0.0  0.0\n",
       " 0.0  0.0  0.0  0.0  1.0  1.0  1.0  0.0  …  0.0  0.0  0.0  0.0  0.0  0.0  0.0\n",
       " 0.0  0.0  0.0  0.0  0.0  1.0  1.0  1.0     0.0  0.0  0.0  0.0  0.0  0.0  0.0\n",
       " 0.0  0.0  0.0  0.0  0.0  0.0  1.0  1.0     0.0  0.0  0.0  0.0  0.0  0.0  0.0\n",
       " 0.0  0.0  0.0  0.0  0.0  0.0  0.0  1.0     0.0  0.0  0.0  0.0  0.0  0.0  0.0\n",
       " 0.0  0.0  0.0  0.0  0.0  0.0  0.0  0.0     0.0  0.0  0.0  0.0  0.0  0.0  0.0\n",
       " 1.0  1.0  0.0  0.0  0.0  0.0  0.0  0.0  …  0.0  0.0  0.0  0.0  0.0  0.0  0.0\n",
       " 0.0  1.0  1.0  0.0  0.0  0.0  0.0  0.0     0.0  0.0  0.0  0.0  0.0  0.0  0.0\n",
       " 0.0  0.0  1.0  1.0  0.0  0.0  0.0  0.0     0.0  0.0  0.0  0.0  0.0  0.0  0.0\n",
       " ⋮                        ⋮              ⋱            ⋮                   \n",
       " 0.0  0.0  0.0  0.0  0.0  0.0  0.0  0.0     0.0  0.0  0.0  0.0  1.0  1.0  0.0\n",
       " 0.0  0.0  0.0  0.0  0.0  0.0  0.0  0.0     0.0  0.0  0.0  0.0  0.0  1.0  1.0\n",
       " 0.0  0.0  0.0  0.0  0.0  0.0  0.0  0.0  …  0.0  0.0  0.0  0.0  0.0  0.0  0.0\n",
       " 0.0  0.0  0.0  0.0  0.0  0.0  0.0  0.0     0.0  0.0  0.0  0.0  0.0  0.0  0.0\n",
       " 0.0  0.0  0.0  0.0  0.0  0.0  0.0  0.0     1.0  0.0  0.0  0.0  0.0  0.0  0.0\n",
       " 0.0  0.0  0.0  0.0  0.0  0.0  0.0  0.0     1.0  1.0  0.0  0.0  0.0  0.0  0.0\n",
       " 0.0  0.0  0.0  0.0  0.0  0.0  0.0  0.0     1.0  1.0  1.0  0.0  0.0  0.0  0.0\n",
       " 0.0  0.0  0.0  0.0  0.0  0.0  0.0  0.0  …  0.0  1.0  1.0  1.0  0.0  0.0  0.0\n",
       " 0.0  0.0  0.0  0.0  0.0  0.0  0.0  0.0     0.0  0.0  1.0  1.0  1.0  0.0  0.0\n",
       " 0.0  0.0  0.0  0.0  0.0  0.0  0.0  0.0     0.0  0.0  0.0  1.0  1.0  1.0  0.0\n",
       " 0.0  0.0  0.0  0.0  0.0  0.0  0.0  0.0     0.0  0.0  0.0  0.0  1.0  1.0  1.0\n",
       " 0.0  0.0  0.0  0.0  0.0  0.0  0.0  0.0     0.0  0.0  0.0  0.0  0.0  1.0  1.0"
      ]
     },
     "execution_count": 66,
     "metadata": {},
     "output_type": "execute_result"
    }
   ],
   "source": [
    "function buildAdjacency(xy)\n",
    "    numNodes = size(xy, 1)\n",
    "    A = zeros(numNodes, numNodes) # initialize a matrix\n",
    "    for i in 1:numNodes\n",
    "        for j in 1:numNodes\n",
    "            # compute the distance between nodes i and j\n",
    "            dx = xy[i,1] - xy[j,1]\n",
    "            dy = xy[i,2] - xy[j,2]\n",
    "            dist = sqrt(dx^2 + dy^2)\n",
    "            if dist < 1.1 # lattice spacing is 1.\n",
    "                A[i,j] = 1.0\n",
    "            end\n",
    "        end\n",
    "    end\n",
    "    return A\n",
    "end"
   ]
  },
  {
   "cell_type": "markdown",
   "metadata": {},
   "source": [
    "#### Proteins are not lattices, they have a more disordered structure. Lets add some disorder by perturbing each node by a normal random variable."
   ]
  },
  {
   "cell_type": "code",
   "execution_count": 76,
   "metadata": {},
   "outputs": [
    {
     "data": {
      "image/png": "[encoded data removed]",
      "text/plain": [
       "Figure(PyObject <Figure size 640x480 with 1 Axes>)"
      ]
     },
     "metadata": {},
     "output_type": "display_data"
    },
    {
     "data": {
      "text/plain": [
       "(0.3420822079325506, 9.368056416687772, 0.8017510800003776, 11.687614199157913)"
      ]
     },
     "execution_count": 76,
     "metadata": {},
     "output_type": "execute_result"
    }
   ],
   "source": [
    "disorder = 0.15\n",
    "xy .+= disorder .* randn(size(xy))\n",
    "\n",
    "fig, ax = subplots()\n",
    "scatter(xy[:,1], xy[:,2])\n",
    "ax.axis(\"equal\")"
   ]
  },
  {
   "cell_type": "markdown",
   "metadata": {},
   "source": [
    "#### For the rest of the code we will want to represent the structure not as a matrix xy but as a vector with the following structure\n",
    "\n",
    "#### $r = (x_1,y_1,x_2,y_2, \\dots, x_n,y_n)$"
   ]
  },
  {
   "cell_type": "code",
   "execution_count": 78,
   "metadata": {},
   "outputs": [
    {
     "data": {
      "text/plain": [
       "r2xy (generic function with 1 method)"
      ]
     },
     "execution_count": 78,
     "metadata": {},
     "output_type": "execute_result"
    }
   ],
   "source": [
    "# define two functions that convert a structure in matrix representation to vector and vise versa.\n",
    "xy2r(xy) = xy'[:]\n",
    "r2xy(r) = Array(reshape(r, 2, :)')"
   ]
  },
  {
   "cell_type": "markdown",
   "metadata": {},
   "source": [
    "#### Now we pack all of our work up untill not into another function."
   ]
  },
  {
   "cell_type": "code",
   "execution_count": 79,
   "metadata": {},
   "outputs": [
    {
     "data": {
      "text/plain": [
       "buildStructure (generic function with 1 method)"
      ]
     },
     "execution_count": 79,
     "metadata": {},
     "output_type": "execute_result"
    }
   ],
   "source": [
    "function buildStructure(W,L,disorder)\n",
    "    # build the structure and adjacency matrix of  \n",
    "    xy = drawLattice(W,L)\n",
    "    A = buildAdjacency(xy)\n",
    "    xy .+= disorder .* randn(size(xy))\n",
    "    r = xy2r(xy)\n",
    "    return r, A  \n",
    "end"
   ]
  },
  {
   "cell_type": "markdown",
   "metadata": {},
   "source": [
    "#### When project is more than 100 lines long it is best practice to save all of your function in a module and load that in to you devoplement area."
   ]
  },
  {
   "cell_type": "code",
   "execution_count": 92,
   "metadata": {},
   "outputs": [
    {
     "name": "stderr",
     "output_type": "stream",
     "text": [
      "┌ Info: Precompiling Elastic_N3 [top-level]\n",
      "└ @ Base loading.jl:1423\n",
      "WARNING: using Elastic_N3.buildStructure in module Main conflicts with an existing identifier.\n",
      "WARNING: using Elastic_N3.xy2r in module Main conflicts with an existing identifier.\n",
      "WARNING: using Elastic_N3.drawLattice in module Main conflicts with an existing identifier.\n",
      "WARNING: using Elastic_N3.buildAdjacency in module Main conflicts with an existing identifier.\n",
      "WARNING: using Elastic_N3.r2xy in module Main conflicts with an existing identifier.\n"
     ]
    }
   ],
   "source": [
    "directoryWithModule = \"./src/\" # the directory where Elastic.jl is located.\n",
    "push!(LOAD_PATH, directoryWithModule) # tell julia where to find your code.\n",
    "using Elastic_N3 # load our module."
   ]
  }
 ],
 "metadata": {
  "kernelspec": {
   "display_name": "Julia 1.7.2",
   "language": "julia",
   "name": "julia-1.7"
  },
  "language_info": {
   "file_extension": ".jl",
   "mimetype": "application/julia",
   "name": "julia",
   "version": "1.7.2"
  },
  "orig_nbformat": 4
 },
 "nbformat": 4,
 "nbformat_minor": 2
}
