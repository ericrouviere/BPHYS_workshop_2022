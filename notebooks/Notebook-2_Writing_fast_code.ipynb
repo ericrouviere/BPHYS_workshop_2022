{
 "cells": [
  {
   "cell_type": "markdown",
   "metadata": {},
   "source": [
    "# Writing fast code\n",
    "\n",
    "1. Basic compute Architecture\n",
    "2. Study of a basic program\n",
    "2. timescales of common instructions\n",
    "2. allocating memory\n",
    "3. type stability"
   ]
  },
  {
   "cell_type": "markdown",
   "metadata": {},
   "source": [
    "# timescales for common instructions"
   ]
  },
  {
   "cell_type": "code",
   "execution_count": 62,
   "metadata": {},
   "outputs": [],
   "source": [
    "using BenchmarkTools"
   ]
  },
  {
   "cell_type": "markdown",
   "metadata": {},
   "source": [
    "### Add, multiply, divide, function call\n",
    "All take order 1 ns "
   ]
  },
  {
   "cell_type": "code",
   "execution_count": 95,
   "metadata": {},
   "outputs": [
    {
     "name": "stdout",
     "output_type": "stream",
     "text": [
      "  1.130 ns (0 allocations: 0 bytes)\n",
      "  1.130 ns (0 allocations: 0 bytes)\n",
      "  1.130 ns (0 allocations: 0 bytes)\n",
      "  6.597 ns (0 allocations: 0 bytes)\n",
      "  1.353 ns (0 allocations: 0 bytes)\n",
      "  1.129 ns (0 allocations: 0 bytes)\n",
      "  2.289 ns (0 allocations: 0 bytes)\n"
     ]
    },
    {
     "data": {
      "text/plain": [
       "0.9829889939419227"
      ]
     },
     "metadata": {},
     "output_type": "display_data"
    }
   ],
   "source": [
    "a, b = -72.0, 55.0\n",
    "f(x) = x\n",
    "@btime $a + $b\n",
    "@btime $a * $b\n",
    "@btime $a / $b\n",
    "@btime sin($a)\n",
    "@btime sqrt(($b)^2 + ($a)^2)\n",
    "@btime f(a)\n",
    "@btime rand()"
   ]
  },
  {
   "cell_type": "code",
   "execution_count": 90,
   "metadata": {},
   "outputs": [
    {
     "name": "stdout",
     "output_type": "stream",
     "text": [
      "  0.962951 seconds (21.40 k allocations: 1.225 MiB, 0.83% compilation time)\n"
     ]
    },
    {
     "data": {
      "text/plain": [
       "5.00000000067109e17"
      ]
     },
     "metadata": {},
     "output_type": "display_data"
    }
   ],
   "source": [
    "function timeadd(n)\n",
    "    s = 0.0\n",
    "    for i in 1:n\n",
    "        s += i \n",
    "    end\n",
    "    return s\n",
    "end\n",
    "\n",
    "n = 1_000_000_000\n",
    "@time timeadd(n)"
   ]
  },
  {
   "cell_type": "code",
   "execution_count": null,
   "metadata": {},
   "outputs": [],
   "source": []
  },
  {
   "cell_type": "markdown",
   "metadata": {},
   "source": [
    "# allocating memory\n",
    "Most standard things is to allocate memory before a loop."
   ]
  },
  {
   "cell_type": "code",
   "execution_count": 141,
   "metadata": {},
   "outputs": [
    {
     "name": "stdout",
     "output_type": "stream",
     "text": [
      "  20.884 ns (1 allocation: 80 bytes)\n",
      "  44.034 ns (1 allocation: 896 bytes)\n",
      "  3.213 μs (2 allocations: 78.17 KiB)\n"
     ]
    }
   ],
   "source": [
    "# zeros() makes a array of 0 \n",
    "@btime zeros(3);\n",
    "@btime zeros(100);\n",
    "@btime zeros(10000);"
   ]
  },
  {
   "cell_type": "code",
   "execution_count": 142,
   "metadata": {},
   "outputs": [
    {
     "name": "stdout",
     "output_type": "stream",
     "text": [
      "  19.810 ns (1 allocation: 80 bytes)\n",
      "  26.095 ns (1 allocation: 896 bytes)\n",
      "  406.843 ns (2 allocations: 78.17 KiB)\n"
     ]
    }
   ],
   "source": [
    "# allocate memory without filling it with values.\n",
    "@btime Vector{Float64}(undef, 3);\n",
    "@btime Vector{Float64}(undef, 100);\n",
    "@btime Vector{Float64}(undef, 10000);"
   ]
  },
  {
   "cell_type": "markdown",
   "metadata": {},
   "source": [
    "# Writing and Reading from an Array\n",
    "\n"
   ]
  },
  {
   "cell_type": "code",
   "execution_count": 143,
   "metadata": {},
   "outputs": [
    {
     "data": {
      "text/plain": [
       "1000×1000 Matrix{Float64}:\n",
       " 0.795366  0.0384061  0.0348913  0.648985  …  0.883733  0.846151  0.0675269\n",
       " 0.755251  0.495458   0.857065   0.147801     0.966296  0.875652  0.0770365\n",
       " 0.515005  0.331872   0.59601    0.149106     0.718047  0.344901  0.694572\n",
       " 0.389452  0.338261   0.989912   0.603325     0.851661  0.576765  0.180598\n",
       " 0.428939  0.188249   0.442514   0.196765     0.36888   0.748419  0.509066\n",
       " 0.882728  0.0217228  0.0509673  0.187772  …  0.818283  0.222228  0.909681\n",
       " 0.230071  0.142156   0.309118   0.1174       0.912287  0.631966  0.209213\n",
       " 0.472333  0.260234   0.278668   0.529968     0.942357  0.678492  0.270195\n",
       " 0.354433  0.7078     0.249605   0.230445     0.810704  0.115324  0.26999\n",
       " 0.780548  0.836304   0.134223   0.447171     0.340376  0.513662  0.64809\n",
       " ⋮                                         ⋱                      \n",
       " 0.114609  0.815257   0.0229175  0.586042     0.817291  0.340336  0.215728\n",
       " 0.100825  0.239202   0.651607   0.942422     0.250643  0.163928  0.863014\n",
       " 0.735107  0.652426   0.792195   0.764993     0.32161   0.632762  0.192076\n",
       " 0.824897  0.234932   0.28485    0.686207     0.759363  0.724037  0.394165\n",
       " 0.391614  0.512238   0.800479   0.904719  …  0.469073  0.21318   0.600752\n",
       " 0.306813  0.0619174  0.151752   0.192359     0.758974  0.176654  0.388398\n",
       " 0.582896  0.499775   0.621096   0.114811     0.60101   0.15787   0.163593\n",
       " 0.287261  0.154585   0.753999   0.409447     0.782123  0.573257  0.670936\n",
       " 0.972763  0.139753   0.507507   0.787508     0.250589  0.130014  0.740066"
      ]
     },
     "metadata": {},
     "output_type": "display_data"
    }
   ],
   "source": [
    "# make matrix with 10^6 random values.\n",
    "n = 1000\n",
    "A = rand(n,n)"
   ]
  },
  {
   "cell_type": "code",
   "execution_count": 149,
   "metadata": {},
   "outputs": [
    {
     "data": {
      "text/plain": [
       "mysum (generic function with 1 method)"
      ]
     },
     "metadata": {},
     "output_type": "display_data"
    }
   ],
   "source": [
    "function mysum(A)\n",
    "    s = 0.0\n",
    "    for i in 1:length(A)\n",
    "        s += A[i]\n",
    "    end\n",
    "    return s\n",
    "end"
   ]
  },
  {
   "cell_type": "code",
   "execution_count": 150,
   "metadata": {},
   "outputs": [
    {
     "name": "stdout",
     "output_type": "stream",
     "text": [
      "  891.611 μs (1 allocation: 16 bytes)\n"
     ]
    },
    {
     "data": {
      "text/plain": [
       "500357.4535311616"
      ]
     },
     "metadata": {},
     "output_type": "display_data"
    }
   ],
   "source": [
    "@btime mysum(A)"
   ]
  },
  {
   "cell_type": "code",
   "execution_count": 146,
   "metadata": {},
   "outputs": [
    {
     "name": "stdout",
     "output_type": "stream",
     "text": [
      "  296.977 μs (1 allocation: 16 bytes)\n"
     ]
    },
    {
     "data": {
      "text/plain": [
       "500357.45353116875"
      ]
     },
     "metadata": {},
     "output_type": "display_data"
    }
   ],
   "source": [
    "@btime sum(A)"
   ]
  },
  {
   "cell_type": "code",
   "execution_count": 135,
   "metadata": {},
   "outputs": [
    {
     "name": "stdout",
     "output_type": "stream",
     "text": [
      "  305.895 μs (0 allocations: 0 bytes)\n",
      "  305.964 μs (0 allocations: 0 bytes)\n"
     ]
    }
   ],
   "source": [
    "n = 1000\n",
    "A = rand(n,n)\n",
    "@btime myfill(A, 0.0)\n",
    "@btime fill!(A,0.0);"
   ]
  },
  {
   "cell_type": "code",
   "execution_count": 15,
   "metadata": {},
   "outputs": [
    {
     "name": "stdout",
     "output_type": "stream",
     "text": [
      "  0.000008 seconds (1 allocation: 16 bytes)\n"
     ]
    },
    {
     "data": {
      "text/plain": [
       "500000000500000000"
      ]
     },
     "metadata": {},
     "output_type": "display_data"
    }
   ],
   "source": []
  },
  {
   "cell_type": "code",
   "execution_count": null,
   "metadata": {},
   "outputs": [],
   "source": []
  }
 ],
 "metadata": {
  "kernelspec": {
   "display_name": "Julia 1.7.2",
   "language": "julia",
   "name": "julia-1.7"
  },
  "language_info": {
   "file_extension": ".jl",
   "mimetype": "application/julia",
   "name": "julia",
   "version": "1.7.2"
  }
 },
 "nbformat": 4,
 "nbformat_minor": 4
}
