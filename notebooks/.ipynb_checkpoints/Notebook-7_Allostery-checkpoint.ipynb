{
 "cells": [
  {
   "cell_type": "markdown",
   "metadata": {},
   "source": [
    "# Notebook 7: Allostery"
   ]
  },
  {
   "cell_type": "markdown",
   "metadata": {},
   "source": [
    "How should we define allostery? The most common definition is **cooperative allostery**. Suppose we have a protein with two binding sites on distance sides of the protein.\n",
    "\n",
    "&nbsp;\n",
    "\n",
    "<p align=\"center\">\n",
    "  <img src=\"../figures/cooperativity.svg\" alt=\"drawing\" width=\"400\"/>\n",
    "</p>\n",
    "\n",
    "\n",
    "Copperativity, is defined as,\n",
    "\n",
    "$$\\Delta \\Delta G = (G_{10} - G_{00}) - (G_{11} - G_{01})$$\n",
    "\n",
    "where $G_{10}, G_{00}, G_{11}, G_{01}$ represent the free energies of states 10, 00, 11, 01 repsectively."
   ]
  },
  {
   "cell_type": "markdown",
   "metadata": {},
   "source": [
    "If $\\Delta\\Delta G \\neq 0$ it means the binding energy of ligand to the first binding site depend on whether ligand is bound at the distant second site -- **Allostery**. In this work shop we will used the energy $E$ as a substitute for the free energy $G$. Technically, $E = G$ at zero temperature. \n",
    "\n",
    "Our method to compute allostery in our elastic network will be to:\n",
    "1. Define active site on left side of network.\n",
    "2. Define allosteric site  on right side of network.\n",
    "3. Apply displacement to the active site and measure the energy $E_{10}$.\n",
    "4. Apply displacement to the allosteric site and measure the energy $E_{01}$.\n",
    "5. Apply displacements to both the active and allosteric site and measure the energy $E_{11}$\n",
    "6. Compute allostery by $\\Delta\\Delta E = E_{01} + E_{10} - E_{11}$. $(E_{00} = 0)$"
   ]
  },
  {
   "cell_type": "code",
   "execution_count": null,
   "metadata": {},
   "outputs": [],
   "source": [
    "using Revise, LinearAlgebra, PyPlot, LaTeXStrings\n",
    "push!(LOAD_PATH, \"../src/\")\n",
    "using Elastic_N3, Elastic_N4, Elastic_N5, Elastic_N6"
   ]
  },
  {
   "cell_type": "code",
   "execution_count": null,
   "metadata": {},
   "outputs": [],
   "source": [
    "W = 10 # width of network\n",
    "L = 10 # length of network\n",
    "q = 5 # number of node types\n",
    "disorder = 0.15 # spatial disorder added to structure\n",
    "k_min = 1e-2 # softest spring constant in interaction table\n",
    "k_max = 1e1 # stiffest spring constant in interaction table\n",
    "\n",
    "# build our network components\n",
    "r, A = buildStructure(W, L, disorder)\n",
    "seq = rand(1:q, W*L)\n",
    "K = buildSpringTable(q, k_min, k_max)\n",
    "S = seq2Springs(seq, K, A);\n",
    "H = computeHessian(r, S);\n",
    "net = Network(seq, r, S, H);"
   ]
  },
  {
   "cell_type": "code",
   "execution_count": null,
   "metadata": {},
   "outputs": [],
   "source": [
    "# defined active site and allosteric site\n",
    "actSiteNodes = collect(Int(floor(W/2)-1) : Int(floor(W/2))+2)\n",
    "allSiteNodes = W*L .- actSiteNodes .+ 1\n",
    "\n",
    "@show actSiteNodes\n",
    "@show allSiteNodes;"
   ]
  },
  {
   "cell_type": "code",
   "execution_count": null,
   "metadata": {},
   "outputs": [],
   "source": [
    "# get inidices of active and allosteric site nodes.\n",
    "actSite = sort([actSiteNodes * 2; actSiteNodes * 2 .- 1])\n",
    "allSite = sort([allSiteNodes * 2; allSiteNodes * 2 .- 1])\n",
    "\n",
    "@show actSite\n",
    "@show allSite;"
   ]
  },
  {
   "cell_type": "markdown",
   "metadata": {},
   "source": [
    "### Here is a little function to automate making random strains for binding sites."
   ]
  },
  {
   "cell_type": "code",
   "execution_count": null,
   "metadata": {},
   "outputs": [],
   "source": [
    "function makeRandStrain(site, r)\n",
    "    # generate a random strain,\n",
    "    # rotations and translations and normalize.\n",
    "    strain = randn(length(site))\n",
    "    removeTranslationRotation!(strain, r[site])\n",
    "    normalize!(strain)\n",
    "    return strain\n",
    "end"
   ]
  },
  {
   "cell_type": "code",
   "execution_count": null,
   "metadata": {},
   "outputs": [],
   "source": [
    "actStrain = makeRandStrain(actSite, r)\n",
    "allStrain = makeRandStrain(allSite, r)"
   ]
  },
  {
   "cell_type": "markdown",
   "metadata": {},
   "source": [
    "### Plot the strains at the active and allosteric sites."
   ]
  },
  {
   "cell_type": "code",
   "execution_count": null,
   "metadata": {},
   "outputs": [],
   "source": [
    "fig, ax = subplots()\n",
    "plotNetwork!(ax,r, A)\n",
    "\n",
    "dr_act = zeros(length(r))\n",
    "dr_act[actSite] = actStrain\n",
    "plotDisplacment!(ax,r, dr_act, color=\"red\", scale=0.4)\n",
    "\n",
    "dr_all = zeros(length(r))\n",
    "dr_all[allSite] = allStrain\n",
    "plotDisplacment!(ax,r, dr_all, color=\"blue\", scale=0.4)"
   ]
  },
  {
   "cell_type": "markdown",
   "metadata": {},
   "source": [
    "### To measure allostery we need to measure energies, let's define a function for this."
   ]
  },
  {
   "cell_type": "code",
   "execution_count": null,
   "metadata": {},
   "outputs": [],
   "source": [
    "function computeEnergy(net::Network, strain, site)\n",
    "    E, F, Δr = computeResponse(net.r, net.H, strain, site)\n",
    "    return E\n",
    "end\n",
    "\n",
    "@show computeEnergy(net, actStrain, actSite)\n",
    "@show computeEnergy(net, allStrain, allSite);"
   ]
  },
  {
   "cell_type": "markdown",
   "metadata": {},
   "source": [
    "### Next lets define a function to compute allostery from the three energies $E_{10}, E_{01}, E_{11}$"
   ]
  },
  {
   "cell_type": "code",
   "execution_count": null,
   "metadata": {},
   "outputs": [],
   "source": [
    "cooperativity(E10, E01, E11) = E10 + E01 - E11"
   ]
  },
  {
   "cell_type": "markdown",
   "metadata": {},
   "source": [
    "### Now lets pack the strains and sites for the three different binding conditions into a list."
   ]
  },
  {
   "cell_type": "code",
   "execution_count": null,
   "metadata": {},
   "outputs": [],
   "source": [
    "sites =  fill([actSite; allSite], 3)"
   ]
  },
  {
   "cell_type": "code",
   "execution_count": null,
   "metadata": {},
   "outputs": [],
   "source": [
    "strains =  [ [actStrain; zeros(8)], [zeros(8); allStrain], [actStrain; allStrain]]\n",
    "hcat(strains...)"
   ]
  },
  {
   "cell_type": "markdown",
   "metadata": {},
   "source": [
    "### Write helper function to builds sites for allostery and generate random strains"
   ]
  },
  {
   "cell_type": "code",
   "execution_count": null,
   "metadata": {},
   "outputs": [],
   "source": [
    "function prepareAllosterySitesStrains(W, L, r)\n",
    "    # build sites and strains vectors for computing allostery.\n",
    "    actSiteNodes = collect(Int(floor(W/2)-1) : Int(floor(W/2))+2)\n",
    "    allSiteNodes = W*L .- actSiteNodes .+ 1\n",
    "    actSite = sort([actSiteNodes * 2; actSiteNodes * 2 .- 1])\n",
    "    allSite = sort([allSiteNodes * 2; allSiteNodes * 2 .- 1])\n",
    "    actStrain = makeRandStrain(actSite, r)\n",
    "    allStrain = makeRandStrain(allSite, r)\n",
    "    sites =  fill([actSite; allSite], 3)\n",
    "    strains =  [ [actStrain; zeros(8)], [zeros(8); allStrain], [actStrain; allStrain]]\n",
    "    return sites, strains\n",
    "end\n",
    "\n",
    "sites, strains = prepareAllosterySitesStrains(W, L, net.r)\n",
    "sites"
   ]
  },
  {
   "cell_type": "code",
   "execution_count": null,
   "metadata": {},
   "outputs": [],
   "source": [
    "hcat(strains...)"
   ]
  },
  {
   "cell_type": "markdown",
   "metadata": {},
   "source": [
    "### Since we will be evolving network under a selective pressure for cooperativity let's define a function that computes a networks allosteric \"fitness\"."
   ]
  },
  {
   "cell_type": "code",
   "execution_count": null,
   "metadata": {},
   "outputs": [],
   "source": [
    "function computeFitness(net::Network, strains, sites)\n",
    "    # compute the allosteric fitness for a network.\n",
    "    E10 = computeEnergy(net, strains[1], sites[2])\n",
    "    E01 = computeEnergy(net, strains[2], sites[2])\n",
    "    E11 = computeEnergy(net, strains[3], sites[3])\n",
    "    fitness = cooperativity(E10, E01, E11)\n",
    "    return fitness\n",
    "end"
   ]
  },
  {
   "cell_type": "code",
   "execution_count": null,
   "metadata": {},
   "outputs": [],
   "source": [
    "computeFitness(net, strains, sites)"
   ]
  },
  {
   "cell_type": "code",
   "execution_count": null,
   "metadata": {},
   "outputs": [],
   "source": [
    "W = 10 # width of network\n",
    "L = 10 # length of network\n",
    "q = 5 # number of node types\n",
    "disorder = 0.15 # spatial disorder added to structure\n",
    "k_min = 1e-2 # softest spring constant in interaction table\n",
    "k_max = 1e1 # stiffest spring constant in interaction table\n",
    "\n",
    "net, K = buildNetworkAndTable(W, L, q, disorder, k_min, k_max)\n",
    "sites, strains = prepareAllosterySitesStrains(W, L, net.r)\n",
    "\n",
    "fitness = computeFitness(net, strains, sites)"
   ]
  },
  {
   "cell_type": "markdown",
   "metadata": {},
   "source": [
    "### Measure cooperativity of 1000 random networks, (~1min)"
   ]
  },
  {
   "cell_type": "code",
   "execution_count": null,
   "metadata": {},
   "outputs": [],
   "source": [
    "n = 1000\n",
    "W, L = 7,7\n",
    "coops1 = zeros(n)\n",
    "for i in 1:n\n",
    "    net, K = buildNetworkAndTable(W, L, q, disorder, k_min, k_max)\n",
    "    sites, strains = prepareAllosterySitesStrains(W, L, net.r)\n",
    "    coops1[i] = computeFitness(net, strains, sites)\n",
    "end\n",
    "\n",
    "W, L = 20,20\n",
    "coops2 = zeros(n)\n",
    "for i in 1:n\n",
    "    net, K = buildNetworkAndTable(W, L, q, disorder, k_min, k_max)\n",
    "    sites, strains = prepareAllosterySitesStrains(W, L, net.r)\n",
    "    coops2[i] = computeFitness(net, strains, sites)\n",
    "end"
   ]
  },
  {
   "cell_type": "code",
   "execution_count": null,
   "metadata": {},
   "outputs": [],
   "source": [
    "fig, ax = subplots()\n",
    "ax.hist(coops1, 30, color=\"blue\")\n",
    "ax.hist(coops2, 30, color=\"red\")\n",
    "ax.set_xlabel(\"Cooperativity, \"*L\"\\Delta\\Delta E\", fontsize=16)\n",
    "ax.set_ylabel(\"Counts\", fontsize=16)\n",
    "ax.legend([\"7x7\",\"20x20\"]);"
   ]
  },
  {
   "cell_type": "code",
   "execution_count": null,
   "metadata": {},
   "outputs": [],
   "source": []
  },
  {
   "cell_type": "code",
   "execution_count": null,
   "metadata": {},
   "outputs": [],
   "source": []
  },
  {
   "cell_type": "code",
   "execution_count": null,
   "metadata": {},
   "outputs": [],
   "source": []
  },
  {
   "cell_type": "code",
   "execution_count": null,
   "metadata": {},
   "outputs": [],
   "source": []
  },
  {
   "cell_type": "code",
   "execution_count": null,
   "metadata": {},
   "outputs": [],
   "source": []
  }
 ],
 "metadata": {
  "kernelspec": {
   "display_name": "Julia 1.7.2",
   "language": "julia",
   "name": "julia-1.7"
  },
  "language_info": {
   "file_extension": ".jl",
   "mimetype": "application/julia",
   "name": "julia",
   "version": "1.7.2"
  }
 },
 "nbformat": 4,
 "nbformat_minor": 4
}
