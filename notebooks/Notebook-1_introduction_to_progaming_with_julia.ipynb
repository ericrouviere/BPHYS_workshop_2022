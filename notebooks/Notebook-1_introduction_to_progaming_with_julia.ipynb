{
 "cells": [
  {
   "cell_type": "markdown",
   "metadata": {},
   "source": [
    "# NoteBook 1: Introduction to programming with Julia"
   ]
  },
  {
   "cell_type": "markdown",
   "metadata": {},
   "source": [
    "### Contents\n",
    "1. The basics\n",
    "2. Julia specific features\n",
    "3. Loading and installing modules\n",
    "4. Some cool Julia features"
   ]
  },
  {
   "cell_type": "markdown",
   "metadata": {},
   "source": [
    "# Part 1: The basics"
   ]
  },
  {
   "cell_type": "markdown",
   "metadata": {},
   "source": [
    "## Scalars"
   ]
  },
  {
   "cell_type": "code",
   "execution_count": 2,
   "metadata": {},
   "outputs": [
    {
     "data": {
      "text/plain": [
       "1"
      ]
     },
     "execution_count": 2,
     "metadata": {},
     "output_type": "execute_result"
    }
   ],
   "source": [
    "a = 1"
   ]
  },
  {
   "cell_type": "code",
   "execution_count": 3,
   "metadata": {},
   "outputs": [
    {
     "data": {
      "text/plain": [
       "Int64"
      ]
     },
     "execution_count": 3,
     "metadata": {},
     "output_type": "execute_result"
    }
   ],
   "source": [
    "typeof(a)"
   ]
  },
  {
   "cell_type": "code",
   "execution_count": 4,
   "metadata": {},
   "outputs": [
    {
     "data": {
      "text/plain": [
       "3.52"
      ]
     },
     "execution_count": 4,
     "metadata": {},
     "output_type": "execute_result"
    }
   ],
   "source": [
    "b = 3.52"
   ]
  },
  {
   "cell_type": "code",
   "execution_count": 5,
   "metadata": {},
   "outputs": [],
   "source": [
    "b = 3.52; # silence ouput with semicolon"
   ]
  },
  {
   "cell_type": "code",
   "execution_count": 6,
   "metadata": {},
   "outputs": [
    {
     "data": {
      "text/plain": [
       "Float64"
      ]
     },
     "execution_count": 6,
     "metadata": {},
     "output_type": "execute_result"
    }
   ],
   "source": [
    "typeof(b) # returns the type of the b"
   ]
  },
  {
   "cell_type": "code",
   "execution_count": 7,
   "metadata": {},
   "outputs": [
    {
     "data": {
      "text/plain": [
       "8"
      ]
     },
     "execution_count": 7,
     "metadata": {},
     "output_type": "execute_result"
    }
   ],
   "source": [
    "sizeof(b) # returns the number of bytes of a variable. 8 bytes = 64 bits"
   ]
  },
  {
   "cell_type": "code",
   "execution_count": 8,
   "metadata": {},
   "outputs": [
    {
     "name": "stdout",
     "output_type": "stream",
     "text": [
      "a + b = 4.52\n",
      "a - b = -2.52\n",
      "a * b = 3.52\n",
      "a / b = 0.2840909090909091\n",
      "a ^ b = 1.0\n",
      "exp(b) = 33.78442846384956\n",
      "sqrt(b) = 1.876166303929372\n",
      "b % a = 0.52\n",
      "log(b) = 1.2584609896100056\n",
      "log(10, b) = 0.546542663478131\n",
      "log(2, b) = 1.8155754288625725\n",
      "abs(-2) = 2\n"
     ]
    }
   ],
   "source": [
    "# scalar opperations\n",
    "@show a + b # addition\n",
    "@show a - b # subtraction\n",
    "@show a * b # multiplication\n",
    "@show a / b # divition\n",
    "@show a ^ b # exponential\n",
    "@show exp(b) # e ^ a\n",
    "@show sqrt(b) # √\n",
    "@show b % a # remainder\n",
    "@show log(b) # log base e\n",
    "@show log(10,b) # log base 10\n",
    "@show log(2,b) # log base 2\n",
    "@show abs(-2); # absolute value"
   ]
  },
  {
   "cell_type": "markdown",
   "metadata": {},
   "source": [
    "## special numbers"
   ]
  },
  {
   "cell_type": "code",
   "execution_count": 9,
   "metadata": {},
   "outputs": [
    {
     "data": {
      "text/plain": [
       "π = 3.1415926535897..."
      ]
     },
     "execution_count": 9,
     "metadata": {},
     "output_type": "execute_result"
    }
   ],
   "source": [
    "pi # pi"
   ]
  },
  {
   "cell_type": "code",
   "execution_count": 10,
   "metadata": {},
   "outputs": [
    {
     "data": {
      "text/plain": [
       "im"
      ]
     },
     "execution_count": 10,
     "metadata": {},
     "output_type": "execute_result"
    }
   ],
   "source": [
    "im # imaginary unit"
   ]
  },
  {
   "cell_type": "code",
   "execution_count": 11,
   "metadata": {},
   "outputs": [
    {
     "data": {
      "text/plain": [
       "ℯ = 2.7182818284590..."
      ]
     },
     "execution_count": 11,
     "metadata": {},
     "output_type": "execute_result"
    }
   ],
   "source": [
    "ℯ # e typed by \\euler tab or exp(1)"
   ]
  },
  {
   "cell_type": "code",
   "execution_count": 68,
   "metadata": {},
   "outputs": [
    {
     "data": {
      "text/plain": [
       "NaN"
      ]
     },
     "execution_count": 68,
     "metadata": {},
     "output_type": "execute_result"
    }
   ],
   "source": [
    "NaN # not a number"
   ]
  },
  {
   "cell_type": "code",
   "execution_count": 69,
   "metadata": {},
   "outputs": [
    {
     "data": {
      "text/plain": [
       "Inf"
      ]
     },
     "execution_count": 69,
     "metadata": {},
     "output_type": "execute_result"
    }
   ],
   "source": [
    "Inf # Infinity"
   ]
  },
  {
   "cell_type": "code",
   "execution_count": 12,
   "metadata": {},
   "outputs": [
    {
     "name": "stdout",
     "output_type": "stream",
     "text": [
      "a > b = false\n",
      "a < b = true\n",
      "a <= b = true\n",
      "a >= b = false\n",
      "a == b = false\n",
      "a == 1 = true\n",
      "a != 0 = true\n"
     ]
    },
    {
     "data": {
      "text/plain": [
       "true"
      ]
     },
     "execution_count": 12,
     "metadata": {},
     "output_type": "execute_result"
    }
   ],
   "source": [
    "# boolean opperations\n",
    "@show a > b # greater than, returns true or false\n",
    "@show a < b # less than\n",
    "@show a <= b # less than or equal to\n",
    "@show a >= b # greater than or equal to\n",
    "@show a == b # equality\n",
    "@show a == 1\n",
    "@show a != 0 # does not equal"
   ]
  },
  {
   "cell_type": "code",
   "execution_count": 13,
   "metadata": {},
   "outputs": [
    {
     "data": {
      "text/plain": [
       "true"
      ]
     },
     "execution_count": 13,
     "metadata": {},
     "output_type": "execute_result"
    }
   ],
   "source": [
    "# Chaining comparisons\n",
    "1 < 2 <= 2 < 3 == 3 > 2 >= 1 == 1 < 3 != 5"
   ]
  },
  {
   "cell_type": "code",
   "execution_count": 14,
   "metadata": {},
   "outputs": [
    {
     "name": "stdout",
     "output_type": "stream",
     "text": [
      "true && false = false\n",
      "true || false = true\n",
      "true ⊻ true = false\n"
     ]
    }
   ],
   "source": [
    "# boolean opperations\n",
    "@show true && false # and\n",
    "@show true || false # or\n",
    "@show true ⊻ true; # xor"
   ]
  },
  {
   "cell_type": "markdown",
   "metadata": {},
   "source": [
    "## Strings"
   ]
  },
  {
   "cell_type": "code",
   "execution_count": 15,
   "metadata": {},
   "outputs": [
    {
     "name": "stdout",
     "output_type": "stream",
     "text": [
      "Hello world\n",
      "typeof(a) = String\n"
     ]
    }
   ],
   "source": [
    "# Strings\n",
    "a = \"Hello world\"\n",
    "println(a) # with new line\n",
    "@show typeof(a);"
   ]
  },
  {
   "cell_type": "code",
   "execution_count": 16,
   "metadata": {},
   "outputs": [
    {
     "name": "stdout",
     "output_type": "stream",
     "text": [
      "My name is Eric. I am 26 years old.\n"
     ]
    }
   ],
   "source": [
    "# printing\n",
    "name = \"Eric\"\n",
    "lastname = \"Rouviere\"\n",
    "age = 26\n",
    "println(\"My name is \",name,\". I am \",age, \" years old.\")"
   ]
  },
  {
   "cell_type": "code",
   "execution_count": 17,
   "metadata": {},
   "outputs": [
    {
     "data": {
      "text/plain": [
       "\"EricRouviere\""
      ]
     },
     "execution_count": 17,
     "metadata": {},
     "output_type": "execute_result"
    }
   ],
   "source": [
    "# String concatination\n",
    "name*lastname"
   ]
  },
  {
   "cell_type": "code",
   "execution_count": 18,
   "metadata": {},
   "outputs": [
    {
     "data": {
      "text/plain": [
       "\"EricEricEric\""
      ]
     },
     "execution_count": 18,
     "metadata": {},
     "output_type": "execute_result"
    }
   ],
   "source": [
    "# String concatination\n",
    "name^3"
   ]
  },
  {
   "cell_type": "markdown",
   "metadata": {},
   "source": [
    "## Arrays"
   ]
  },
  {
   "cell_type": "code",
   "execution_count": 19,
   "metadata": {},
   "outputs": [
    {
     "data": {
      "text/plain": [
       "3-element Vector{Int64}:\n",
       " 1\n",
       " 2\n",
       " 3"
      ]
     },
     "execution_count": 19,
     "metadata": {},
     "output_type": "execute_result"
    }
   ],
   "source": [
    "v = [1,2,3]"
   ]
  },
  {
   "cell_type": "code",
   "execution_count": 20,
   "metadata": {},
   "outputs": [
    {
     "data": {
      "text/plain": [
       "3-element Vector{Float64}:\n",
       " 1.0\n",
       " 2.0\n",
       " 3.0"
      ]
     },
     "execution_count": 20,
     "metadata": {},
     "output_type": "execute_result"
    }
   ],
   "source": [
    "v = [1.0,2.0,3.0]"
   ]
  },
  {
   "cell_type": "code",
   "execution_count": 21,
   "metadata": {},
   "outputs": [
    {
     "data": {
      "text/plain": [
       "3×3 Matrix{Int64}:\n",
       " 1  0   2\n",
       " 0  1  -2\n",
       " 0  0   1"
      ]
     },
     "execution_count": 21,
     "metadata": {},
     "output_type": "execute_result"
    }
   ],
   "source": [
    "A = [1 0 2; 0 1 -2; 0 0 1]"
   ]
  },
  {
   "cell_type": "code",
   "execution_count": 22,
   "metadata": {},
   "outputs": [
    {
     "data": {
      "text/plain": [
       "3-element Vector{Any}:\n",
       "  \"asdf\"\n",
       " 4\n",
       " 1.2"
      ]
     },
     "execution_count": 22,
     "metadata": {},
     "output_type": "execute_result"
    }
   ],
   "source": [
    "u = [\"asdf\", 4, 1.2]"
   ]
  },
  {
   "cell_type": "markdown",
   "metadata": {},
   "source": [
    "## Array indexing (starts at 1, not 0)"
   ]
  },
  {
   "cell_type": "code",
   "execution_count": 23,
   "metadata": {},
   "outputs": [
    {
     "name": "stdout",
     "output_type": "stream",
     "text": [
      "v[1] = 1.0\n",
      "A[1, 3] = 2\n",
      "v[end] = 3.0\n"
     ]
    }
   ],
   "source": [
    "@show v[1] # index vector at position 1 \n",
    "@show A[1,3] # index matrix at position 1,3\n",
    "@show v[end];"
   ]
  },
  {
   "cell_type": "code",
   "execution_count": 24,
   "metadata": {},
   "outputs": [
    {
     "ename": "LoadError",
     "evalue": "BoundsError: attempt to access 3-element Vector{Float64} at index [0]",
     "output_type": "error",
     "traceback": [
      "BoundsError: attempt to access 3-element Vector{Float64} at index [0]",
      "",
      "Stacktrace:",
      " [1] getindex(A::Vector{Float64}, i1::Int64)",
      "   @ Base ./array.jl:861",
      " [2] top-level scope",
      "   @ In[24]:1",
      " [3] eval",
      "   @ ./boot.jl:373 [inlined]",
      " [4] include_string(mapexpr::typeof(REPL.softscope), mod::Module, code::String, filename::String)",
      "   @ Base ./loading.jl:1196"
     ]
    }
   ],
   "source": [
    "v[0] # indexing starts at 1"
   ]
  },
  {
   "cell_type": "code",
   "execution_count": 25,
   "metadata": {},
   "outputs": [
    {
     "data": {
      "text/plain": [
       "2-element Vector{Float64}:\n",
       " 2.0\n",
       " 3.0"
      ]
     },
     "execution_count": 25,
     "metadata": {},
     "output_type": "execute_result"
    }
   ],
   "source": [
    "v[2:3] # index vector at position 2 through 3"
   ]
  },
  {
   "cell_type": "code",
   "execution_count": 26,
   "metadata": {},
   "outputs": [
    {
     "data": {
      "text/plain": [
       "2-element Vector{Float64}:\n",
       " 2.0\n",
       " 3.0"
      ]
     },
     "execution_count": 26,
     "metadata": {},
     "output_type": "execute_result"
    }
   ],
   "source": [
    "v[2:end] # index slice of vector "
   ]
  },
  {
   "cell_type": "code",
   "execution_count": 27,
   "metadata": {},
   "outputs": [
    {
     "data": {
      "text/plain": [
       "3-element Vector{Float64}:\n",
       " 1.0\n",
       " 2.0\n",
       " 3.0"
      ]
     },
     "execution_count": 27,
     "metadata": {},
     "output_type": "execute_result"
    }
   ],
   "source": [
    "v[:] # index all elements"
   ]
  },
  {
   "cell_type": "code",
   "execution_count": 28,
   "metadata": {},
   "outputs": [
    {
     "data": {
      "text/plain": [
       "3×2 Matrix{Int64}:\n",
       " 0   2\n",
       " 1  -2\n",
       " 0   1"
      ]
     },
     "execution_count": 28,
     "metadata": {},
     "output_type": "execute_result"
    }
   ],
   "source": [
    "A[1:3,2:3] # get slices of matrix"
   ]
  },
  {
   "cell_type": "code",
   "execution_count": 29,
   "metadata": {},
   "outputs": [
    {
     "name": "stdout",
     "output_type": "stream",
     "text": [
      "v = [1.0, 2.0, 3.0]\n",
      "v = [1.0, 4.0, 3.0]\n"
     ]
    },
    {
     "data": {
      "text/plain": [
       "3-element Vector{Float64}:\n",
       " 1.0\n",
       " 4.0\n",
       " 3.0"
      ]
     },
     "execution_count": 29,
     "metadata": {},
     "output_type": "execute_result"
    }
   ],
   "source": [
    "# edit array\n",
    "@show v\n",
    "v[2] = 4\n",
    "@show v"
   ]
  },
  {
   "cell_type": "markdown",
   "metadata": {},
   "source": [
    "## Constructing arrays"
   ]
  },
  {
   "cell_type": "code",
   "execution_count": 124,
   "metadata": {},
   "outputs": [
    {
     "data": {
      "text/plain": [
       "5-element Vector{Float64}:\n",
       " 0.0\n",
       " 0.0\n",
       " 0.0\n",
       " 0.0\n",
       " 0.0"
      ]
     },
     "execution_count": 124,
     "metadata": {},
     "output_type": "execute_result"
    }
   ],
   "source": [
    "# useful array functions\n",
    "zeros(5) # intialize matrix and fill with zeros"
   ]
  },
  {
   "cell_type": "code",
   "execution_count": 125,
   "metadata": {},
   "outputs": [
    {
     "data": {
      "text/plain": [
       "5×3 Matrix{Float64}:\n",
       " 0.0  0.0  0.0\n",
       " 0.0  0.0  0.0\n",
       " 0.0  0.0  0.0\n",
       " 0.0  0.0  0.0\n",
       " 0.0  0.0  0.0"
      ]
     },
     "execution_count": 125,
     "metadata": {},
     "output_type": "execute_result"
    }
   ],
   "source": [
    "zeros(5,3)"
   ]
  },
  {
   "cell_type": "code",
   "execution_count": 126,
   "metadata": {},
   "outputs": [
    {
     "data": {
      "text/plain": [
       "2×5 Matrix{Float64}:\n",
       " 1.0  1.0  1.0  1.0  1.0\n",
       " 1.0  1.0  1.0  1.0  1.0"
      ]
     },
     "execution_count": 126,
     "metadata": {},
     "output_type": "execute_result"
    }
   ],
   "source": [
    "ones(2,5) # intialize array and fill with 1"
   ]
  },
  {
   "cell_type": "code",
   "execution_count": 127,
   "metadata": {},
   "outputs": [
    {
     "data": {
      "text/plain": [
       "2×5×2 Array{Float64, 3}:\n",
       "[:, :, 1] =\n",
       " 0.844747  0.0816211  0.921282  0.192506  0.795258\n",
       " 0.876309  0.690024   0.215143  0.770145  0.808944\n",
       "\n",
       "[:, :, 2] =\n",
       " 0.843052  0.62699   0.865034  0.643989  0.454862\n",
       " 0.370297  0.568108  0.422541  0.127671  0.0597814"
      ]
     },
     "execution_count": 127,
     "metadata": {},
     "output_type": "execute_result"
    }
   ],
   "source": [
    "rand(2,5,2) # intialize array and fill with uniform randoms"
   ]
  },
  {
   "cell_type": "code",
   "execution_count": 128,
   "metadata": {},
   "outputs": [
    {
     "data": {
      "text/plain": [
       "5-element Vector{Float64}:\n",
       " -0.28056378396899284\n",
       " -0.2311827357739574\n",
       "  0.8495018208936701\n",
       " -1.2433188245082427\n",
       " -0.8230341130020212"
      ]
     },
     "execution_count": 128,
     "metadata": {},
     "output_type": "execute_result"
    }
   ],
   "source": [
    "v = randn(5) # intialize array and fill with unit normals"
   ]
  },
  {
   "cell_type": "code",
   "execution_count": null,
   "metadata": {},
   "outputs": [],
   "source": [
    "# rand with out argument return 1 random Float\n",
    "rand()"
   ]
  },
  {
   "cell_type": "code",
   "execution_count": 131,
   "metadata": {},
   "outputs": [
    {
     "data": {
      "text/plain": [
       "1:10"
      ]
     },
     "execution_count": 131,
     "metadata": {},
     "output_type": "execute_result"
    }
   ],
   "source": [
    "1:10 # range opporator"
   ]
  },
  {
   "cell_type": "code",
   "execution_count": 140,
   "metadata": {},
   "outputs": [
    {
     "data": {
      "text/plain": [
       "10-element Vector{Int64}:\n",
       "  1\n",
       "  2\n",
       "  3\n",
       "  4\n",
       "  5\n",
       "  6\n",
       "  7\n",
       "  8\n",
       "  9\n",
       " 10"
      ]
     },
     "execution_count": 140,
     "metadata": {},
     "output_type": "execute_result"
    }
   ],
   "source": [
    "collect(1:10) # convert to array"
   ]
  },
  {
   "cell_type": "code",
   "execution_count": 143,
   "metadata": {},
   "outputs": [
    {
     "data": {
      "text/plain": [
       "5-element LinRange{Float64, Int64}:\n",
       " 1.0,3.25,5.5,7.75,10.0"
      ]
     },
     "execution_count": 143,
     "metadata": {},
     "output_type": "execute_result"
    }
   ],
   "source": [
    "v = LinRange(1,10, 5) # similar to linspace in matlab"
   ]
  },
  {
   "cell_type": "code",
   "execution_count": 144,
   "metadata": {},
   "outputs": [
    {
     "data": {
      "text/plain": [
       "5"
      ]
     },
     "execution_count": 144,
     "metadata": {},
     "output_type": "execute_result"
    }
   ],
   "source": [
    "# length\n",
    "length(v)"
   ]
  },
  {
   "cell_type": "code",
   "execution_count": 146,
   "metadata": {},
   "outputs": [
    {
     "data": {
      "text/plain": [
       "5000"
      ]
     },
     "execution_count": 146,
     "metadata": {},
     "output_type": "execute_result"
    }
   ],
   "source": [
    "# length of array, ie number of elements\n",
    "A = rand(100,50)\n",
    "length(A)"
   ]
  },
  {
   "cell_type": "code",
   "execution_count": 147,
   "metadata": {},
   "outputs": [
    {
     "data": {
      "text/plain": [
       "(100, 50)"
      ]
     },
     "execution_count": 147,
     "metadata": {},
     "output_type": "execute_result"
    }
   ],
   "source": [
    "# size of array\n",
    "size(A)"
   ]
  },
  {
   "cell_type": "markdown",
   "metadata": {},
   "source": [
    "## Element wise operations on arrays\n",
    "\n",
    "Add a dot (.) to the operation. Arrays must be the same size."
   ]
  },
  {
   "cell_type": "code",
   "execution_count": 43,
   "metadata": {},
   "outputs": [
    {
     "data": {
      "text/plain": [
       "3-element Vector{Float64}:\n",
       " 0.9205000432470163\n",
       " 0.2401203734661348\n",
       " 0.026762819342267874"
      ]
     },
     "execution_count": 43,
     "metadata": {},
     "output_type": "execute_result"
    }
   ],
   "source": [
    "v = ones(3)\n",
    "u = rand(3)"
   ]
  },
  {
   "cell_type": "code",
   "execution_count": 44,
   "metadata": {},
   "outputs": [
    {
     "data": {
      "text/plain": [
       "3-element Vector{Float64}:\n",
       " 1.9205000432470163\n",
       " 1.2401203734661348\n",
       " 1.026762819342268"
      ]
     },
     "execution_count": 44,
     "metadata": {},
     "output_type": "execute_result"
    }
   ],
   "source": [
    "v .+ u"
   ]
  },
  {
   "cell_type": "code",
   "execution_count": 46,
   "metadata": {},
   "outputs": [
    {
     "name": "stdout",
     "output_type": "stream",
     "text": [
      "v .- u = [0.07949995675298371, 0.7598796265338652, 0.9732371806577321]\n",
      "v .* u = [0.9205000432470163, 0.2401203734661348, 0.026762819342267874]\n",
      "v ./ u = [1.0863660543377616, 4.164577897181366, 37.365271095360626]\n",
      "v .^ u = [1.0, 1.0, 1.0]\n",
      "v .% u = [0.07949995675298371, 0.03951850613546082, 0.009775684336088664]\n"
     ]
    },
    {
     "data": {
      "text/plain": [
       "3-element Vector{Float64}:\n",
       " 0.07949995675298371\n",
       " 0.03951850613546082\n",
       " 0.009775684336088664"
      ]
     },
     "execution_count": 46,
     "metadata": {},
     "output_type": "execute_result"
    }
   ],
   "source": [
    "@show v .- u \n",
    "@show v .* u\n",
    "@show v ./ u\n",
    "@show v .^ u\n",
    "@show v .% u"
   ]
  },
  {
   "cell_type": "markdown",
   "metadata": {},
   "source": [
    "#### Add dots any scalar function to act element wise."
   ]
  },
  {
   "cell_type": "code",
   "execution_count": 49,
   "metadata": {},
   "outputs": [
    {
     "name": "stdout",
     "output_type": "stream",
     "text": [
      "exp.(u) = [2.510545457418446, 1.271402184198374, 1.0271241598871281]\n",
      "sqrt.(u) = [0.9594269348142235, 0.4900207888101634, 0.16359345751669863]\n",
      "log.(u) = [-0.08283823132691295, -1.4266149252684748, -3.620741692684734]\n",
      "log.(10, u) = [-0.03597618675590338, -0.6195709898449185, -1.5724681375300193]\n",
      "log.(2, u) = [-0.1195103055313501, -2.0581702779430078, -5.223626084376177]\n",
      "abs.(u) = [0.9205000432470163, 0.2401203734661348, 0.026762819342267874]\n"
     ]
    }
   ],
   "source": [
    "@show exp.(u) # e ^ a\n",
    "@show sqrt.(u) # √\n",
    "@show log.(u) # log base e\n",
    "@show log.(10,u) # log base 10\n",
    "@show log.(2,u) # log base 2\n",
    "@show abs.(u); # absolute value"
   ]
  },
  {
   "cell_type": "markdown",
   "metadata": {},
   "source": [
    "## Non-element wise opporations on arrays"
   ]
  },
  {
   "cell_type": "code",
   "execution_count": 57,
   "metadata": {},
   "outputs": [],
   "source": [
    "# Load packages with using"
   ]
  },
  {
   "cell_type": "code",
   "execution_count": 80,
   "metadata": {},
   "outputs": [
    {
     "name": "stdout",
     "output_type": "stream",
     "text": [
      "sum(u) = 6\n"
     ]
    }
   ],
   "source": [
    "u = [1,2,3]\n",
    "v = [-1,4,5]\n",
    "@show sum(u); # all parts"
   ]
  },
  {
   "cell_type": "code",
   "execution_count": 82,
   "metadata": {},
   "outputs": [
    {
     "name": "stdout",
     "output_type": "stream",
     "text": [
      "minimum(u) = 1\n",
      "maximum(u) = 3\n"
     ]
    }
   ],
   "source": [
    "@show minimum(u) # minimum\n",
    "@show maximum(u); # maximum"
   ]
  },
  {
   "cell_type": "code",
   "execution_count": 79,
   "metadata": {},
   "outputs": [
    {
     "name": "stdout",
     "output_type": "stream",
     "text": [
      "norm(u) = 3.7416573867739413\n",
      "norm(u, 1) = 6.0\n",
      "norm(u, Inf) = 3.0\n"
     ]
    }
   ],
   "source": [
    "using LinearAlgebra\n",
    "@show norm(u) # L2 norm\n",
    "@show norm(u,1) # L1 norm\n",
    "@show norm(u,Inf); # Infinity norm"
   ]
  },
  {
   "cell_type": "code",
   "execution_count": 88,
   "metadata": {},
   "outputs": [
    {
     "name": "stdout",
     "output_type": "stream",
     "text": [
      "dot(u, v) = 22\n",
      "u ⋅ v = 22\n"
     ]
    }
   ],
   "source": [
    "# dot product\n",
    "@show dot(u,v)\n",
    "@show u ⋅ v; # dot product, \\cdot"
   ]
  },
  {
   "cell_type": "code",
   "execution_count": 89,
   "metadata": {},
   "outputs": [
    {
     "data": {
      "text/plain": [
       "3×3 Matrix{Float64}:\n",
       " 0.670126  0.605041   0.226795\n",
       " 0.763145  0.0671434  0.665496\n",
       " 0.305937  0.221736   0.547648"
      ]
     },
     "execution_count": 89,
     "metadata": {},
     "output_type": "execute_result"
    }
   ],
   "source": []
  },
  {
   "cell_type": "code",
   "execution_count": 94,
   "metadata": {},
   "outputs": [
    {
     "data": {
      "text/plain": [
       "3-element Vector{Int64}:\n",
       " -2\n",
       "  8\n",
       " 10"
      ]
     },
     "execution_count": 94,
     "metadata": {},
     "output_type": "execute_result"
    }
   ],
   "source": [
    "2 * v # scalar vector product"
   ]
  },
  {
   "cell_type": "code",
   "execution_count": 96,
   "metadata": {},
   "outputs": [
    {
     "data": {
      "text/plain": [
       "3-element Vector{Int64}:\n",
       " 0\n",
       " 6\n",
       " 8"
      ]
     },
     "execution_count": 96,
     "metadata": {},
     "output_type": "execute_result"
    }
   ],
   "source": [
    "v + u # vector addition"
   ]
  },
  {
   "cell_type": "code",
   "execution_count": 91,
   "metadata": {},
   "outputs": [
    {
     "data": {
      "text/plain": [
       "3-element Vector{Float64}:\n",
       " 2.8840148504840384\n",
       " 2.832910624925628\n",
       " 3.3192450689845936"
      ]
     },
     "execution_count": 91,
     "metadata": {},
     "output_type": "execute_result"
    }
   ],
   "source": [
    "A = rand(3,3)\n",
    "A * v # matrix vector product"
   ]
  },
  {
   "cell_type": "code",
   "execution_count": 97,
   "metadata": {},
   "outputs": [
    {
     "data": {
      "text/plain": [
       "5×3 Matrix{Float64}:\n",
       " 0.858941  0.311885  0.77178\n",
       " 1.04682   0.568998  0.796031\n",
       " 1.05004   0.613291  0.785667\n",
       " 0.998596  0.559785  0.864766\n",
       " 0.78549   0.636087  0.363035"
      ]
     },
     "execution_count": 97,
     "metadata": {},
     "output_type": "execute_result"
    }
   ],
   "source": [
    "B = rand(5,3)\n",
    "B * A # Matrix Matrix product"
   ]
  },
  {
   "cell_type": "code",
   "execution_count": 100,
   "metadata": {},
   "outputs": [
    {
     "data": {
      "text/plain": [
       "1×3 adjoint(::Vector{Int64}) with eltype Int64:\n",
       " -1  4  5"
      ]
     },
     "execution_count": 100,
     "metadata": {},
     "output_type": "execute_result"
    }
   ],
   "source": [
    "# Transpose (adjoint)\n",
    "v'"
   ]
  },
  {
   "cell_type": "code",
   "execution_count": 101,
   "metadata": {},
   "outputs": [
    {
     "data": {
      "text/plain": [
       "3×5 adjoint(::Matrix{Float64}) with eltype Float64:\n",
       " 0.27771   0.702591  0.769518  0.59956   0.995183\n",
       " 0.707455  0.56293   0.493029  0.484667  0.106988\n",
       " 0.434564  0.478518  0.51682   0.7418    0.120757"
      ]
     },
     "execution_count": 101,
     "metadata": {},
     "output_type": "execute_result"
    }
   ],
   "source": [
    "B'"
   ]
  },
  {
   "cell_type": "code",
   "execution_count": 103,
   "metadata": {},
   "outputs": [
    {
     "data": {
      "text/plain": [
       "15.525491757890874"
      ]
     },
     "execution_count": 103,
     "metadata": {},
     "output_type": "execute_result"
    }
   ],
   "source": [
    "u' * A * u # Quadratic form"
   ]
  },
  {
   "cell_type": "code",
   "execution_count": 106,
   "metadata": {},
   "outputs": [
    {
     "data": {
      "text/plain": [
       "-0.17020796968539106"
      ]
     },
     "execution_count": 106,
     "metadata": {},
     "output_type": "execute_result"
    }
   ],
   "source": [
    "det(A) #determinant "
   ]
  },
  {
   "cell_type": "code",
   "execution_count": 108,
   "metadata": {},
   "outputs": [
    {
     "data": {
      "text/plain": [
       "3×3 Matrix{Float64}:\n",
       "  0.650932   1.65128   -2.27619\n",
       "  1.25925   -1.74849    1.60327\n",
       " -0.873491  -0.214523   2.44841"
      ]
     },
     "execution_count": 108,
     "metadata": {},
     "output_type": "execute_result"
    }
   ],
   "source": [
    "inv(A) #inverse of A "
   ]
  },
  {
   "cell_type": "markdown",
   "metadata": {},
   "source": [
    "## Control Flow"
   ]
  },
  {
   "cell_type": "markdown",
   "metadata": {},
   "source": [
    "#### If else blocks"
   ]
  },
  {
   "cell_type": "code",
   "execution_count": 122,
   "metadata": {},
   "outputs": [
    {
     "name": "stdout",
     "output_type": "stream",
     "text": [
      "a is greater than 10\n"
     ]
    }
   ],
   "source": [
    "a = 55\n",
    "if a < 0\n",
    "    println(\"a is less than 0\")\n",
    "elseif a < 10\n",
    "    println(\"a is less than 10 but greater than 0\")\n",
    "else\n",
    "    println(\"a is greater than 10\")\n",
    "end"
   ]
  },
  {
   "cell_type": "markdown",
   "metadata": {},
   "source": [
    "#### For loops"
   ]
  },
  {
   "cell_type": "code",
   "execution_count": 148,
   "metadata": {},
   "outputs": [
    {
     "name": "stdout",
     "output_type": "stream",
     "text": [
      "1\n",
      "2\n",
      "3\n",
      "4\n",
      "5\n",
      "6\n",
      "7\n",
      "8\n",
      "9\n",
      "10\n"
     ]
    }
   ],
   "source": [
    "for i in 1:10\n",
    "    println(i)\n",
    "end"
   ]
  },
  {
   "cell_type": "code",
   "execution_count": 149,
   "metadata": {},
   "outputs": [
    {
     "name": "stdout",
     "output_type": "stream",
     "text": [
      "1\n",
      "2\n",
      "3\n",
      "4\n",
      "5\n",
      "6\n",
      "7\n",
      "8\n",
      "9\n",
      "10\n"
     ]
    }
   ],
   "source": [
    "for i = 1:10\n",
    "    println(i)\n",
    "end"
   ]
  },
  {
   "cell_type": "code",
   "execution_count": 150,
   "metadata": {},
   "outputs": [
    {
     "name": "stdout",
     "output_type": "stream",
     "text": [
      "i = 1, j = 1\n",
      "i = 1, j = 2\n",
      "i = 1, j = 3\n",
      "i = 2, j = 1\n",
      "i = 2, j = 2\n",
      "i = 2, j = 3\n",
      "i = 3, j = 1\n",
      "i = 3, j = 2\n",
      "i = 3, j = 3\n"
     ]
    }
   ],
   "source": [
    "for i in 1:3\n",
    "    for j in 1:3\n",
    "        println(\"i = \",i,\", j = \",j)\n",
    "    end\n",
    "end"
   ]
  },
  {
   "cell_type": "code",
   "execution_count": 151,
   "metadata": {},
   "outputs": [
    {
     "name": "stdout",
     "output_type": "stream",
     "text": [
      "i = 1, j = 1\n",
      "i = 1, j = 2\n",
      "i = 1, j = 3\n",
      "i = 2, j = 1\n",
      "i = 2, j = 2\n",
      "i = 2, j = 3\n",
      "i = 3, j = 1\n",
      "i = 3, j = 2\n",
      "i = 3, j = 3\n"
     ]
    }
   ],
   "source": [
    "for i in 1:3, j in 1:3\n",
    "    println(\"i = \",i,\", j = \",j)\n",
    "end"
   ]
  },
  {
   "cell_type": "markdown",
   "metadata": {},
   "source": [
    "### while loops"
   ]
  },
  {
   "cell_type": "code",
   "execution_count": 155,
   "metadata": {},
   "outputs": [
    {
     "name": "stdout",
     "output_type": "stream",
     "text": [
      "1\n",
      "2\n",
      "3\n",
      "4\n",
      "5\n"
     ]
    }
   ],
   "source": [
    "a = 0\n",
    "while a < 5\n",
    "    a = a + 1\n",
    "    println(a)\n",
    "end"
   ]
  },
  {
   "cell_type": "code",
   "execution_count": 157,
   "metadata": {},
   "outputs": [
    {
     "name": "stdout",
     "output_type": "stream",
     "text": [
      "1\n",
      "2\n",
      "3\n",
      "4\n",
      "5\n"
     ]
    }
   ],
   "source": [
    "a = 0\n",
    "while a < 5\n",
    "    a += 1 # same as `a=a+1` \n",
    "    println(a)\n",
    "end"
   ]
  },
  {
   "cell_type": "code",
   "execution_count": 158,
   "metadata": {},
   "outputs": [],
   "source": [
    "# many updating opporator exist\n",
    "# +=  -=  *=  /=  \\=  ÷=  %=  ^=  &=  |=  ⊻= >>=  <<="
   ]
  },
  {
   "cell_type": "markdown",
   "metadata": {},
   "source": [
    "## Functions"
   ]
  },
  {
   "cell_type": "markdown",
   "metadata": {},
   "source": [
    "#### Two ways to define functions. For simple function write them a you would in math"
   ]
  },
  {
   "cell_type": "code",
   "execution_count": 171,
   "metadata": {},
   "outputs": [
    {
     "data": {
      "text/plain": [
       "f (generic function with 1 method)"
      ]
     },
     "execution_count": 171,
     "metadata": {},
     "output_type": "execute_result"
    }
   ],
   "source": [
    "f(x,y) = -2*x^2 + 3*y + 14"
   ]
  },
  {
   "cell_type": "code",
   "execution_count": 173,
   "metadata": {},
   "outputs": [
    {
     "data": {
      "text/plain": [
       "-33"
      ]
     },
     "execution_count": 173,
     "metadata": {},
     "output_type": "execute_result"
    }
   ],
   "source": [
    "f(5,1)"
   ]
  },
  {
   "cell_type": "markdown",
   "metadata": {},
   "source": [
    "#### For longer functions its useful to use multi line definitions"
   ]
  },
  {
   "cell_type": "code",
   "execution_count": 177,
   "metadata": {},
   "outputs": [
    {
     "data": {
      "text/plain": [
       "f (generic function with 1 method)"
      ]
     },
     "execution_count": 177,
     "metadata": {},
     "output_type": "execute_result"
    }
   ],
   "source": [
    "function f(x,y)\n",
    "    z = -2*x^2 + 3*y + 14\n",
    "    return z\n",
    "end"
   ]
  },
  {
   "cell_type": "code",
   "execution_count": 179,
   "metadata": {},
   "outputs": [
    {
     "data": {
      "text/plain": [
       "-33"
      ]
     },
     "execution_count": 179,
     "metadata": {},
     "output_type": "execute_result"
    }
   ],
   "source": [
    "f(5,1)"
   ]
  },
  {
   "cell_type": "code",
   "execution_count": 181,
   "metadata": {},
   "outputs": [],
   "source": [
    "#### When you dont want the function to return a value"
   ]
  },
  {
   "cell_type": "code",
   "execution_count": 182,
   "metadata": {},
   "outputs": [
    {
     "data": {
      "text/plain": [
       "printHelloWorld (generic function with 1 method)"
      ]
     },
     "execution_count": 182,
     "metadata": {},
     "output_type": "execute_result"
    }
   ],
   "source": [
    "function printHelloWorld()\n",
    "    println(\"Hello world\")\n",
    "    return nothing\n",
    "end"
   ]
  },
  {
   "cell_type": "code",
   "execution_count": 187,
   "metadata": {},
   "outputs": [
    {
     "name": "stdout",
     "output_type": "stream",
     "text": [
      "Hello world\n"
     ]
    }
   ],
   "source": [
    "printHelloWorld()"
   ]
  },
  {
   "cell_type": "markdown",
   "metadata": {},
   "source": [
    "#### Keyword arguments"
   ]
  },
  {
   "cell_type": "code",
   "execution_count": 190,
   "metadata": {},
   "outputs": [
    {
     "data": {
      "text/plain": [
       "g (generic function with 1 method)"
      ]
     },
     "execution_count": 190,
     "metadata": {},
     "output_type": "execute_result"
    }
   ],
   "source": [
    "function g(x,y; a=1,b=2,c=3)\n",
    "    return a*x + b*y + c\n",
    "end"
   ]
  },
  {
   "cell_type": "code",
   "execution_count": 193,
   "metadata": {},
   "outputs": [
    {
     "data": {
      "text/plain": [
       "10"
      ]
     },
     "execution_count": 193,
     "metadata": {},
     "output_type": "execute_result"
    }
   ],
   "source": [
    "g(1,3)"
   ]
  },
  {
   "cell_type": "code",
   "execution_count": 196,
   "metadata": {},
   "outputs": [
    {
     "data": {
      "text/plain": [
       "-20"
      ]
     },
     "execution_count": 196,
     "metadata": {},
     "output_type": "execute_result"
    }
   ],
   "source": [
    "g(1,3, a=10,b=-10,c=0)"
   ]
  },
  {
   "cell_type": "markdown",
   "metadata": {},
   "source": [
    "## Loading modules (packages)"
   ]
  },
  {
   "cell_type": "code",
   "execution_count": null,
   "metadata": {},
   "outputs": [],
   "source": [
    "using LinearAlgebra, Random"
   ]
  },
  {
   "cell_type": "code",
   "execution_count": null,
   "metadata": {},
   "outputs": [],
   "source": [
    "To install other packages use `]`"
   ]
  },
  {
   "cell_type": "code",
   "execution_count": null,
   "metadata": {},
   "outputs": [],
   "source": [
    "] add LaTeXStrings"
   ]
  },
  {
   "cell_type": "markdown",
   "metadata": {},
   "source": [
    "Suppose I write my own module called ExampleModule.jl and its save in current working directory."
   ]
  },
  {
   "cell_type": "code",
   "execution_count": 250,
   "metadata": {},
   "outputs": [
    {
     "data": {
      "text/plain": [
       "\"/home/erouviere/Dropbox/protevo/projects/Biophysics_workshop\""
      ]
     },
     "execution_count": 250,
     "metadata": {},
     "output_type": "execute_result"
    }
   ],
   "source": [
    "pwd() # print working directory"
   ]
  },
  {
   "cell_type": "code",
   "execution_count": 253,
   "metadata": {},
   "outputs": [
    {
     "data": {
      "text/plain": [
       "5-element Vector{String}:\n",
       " \".ExampleModule.jl.swp\"\n",
       " \".ipynb_checkpoints\"\n",
       " \"ExampleModule.jl\"\n",
       " \"Notebook-1_introduction_to_progaming_with_julia.ipynb\"\n",
       " \"src\""
      ]
     },
     "execution_count": 253,
     "metadata": {},
     "output_type": "execute_result"
    }
   ],
   "source": [
    "readdir() # lists the files in the working directory"
   ]
  },
  {
   "cell_type": "code",
   "execution_count": 251,
   "metadata": {},
   "outputs": [
    {
     "data": {
      "text/plain": [
       "4-element Vector{String}:\n",
       " \"@\"\n",
       " \"@v#.#\"\n",
       " \"@stdlib\"\n",
       " \"/home/erouviere/Dropbox/protevo/projects/Biophysics_workshop\""
      ]
     },
     "execution_count": 251,
     "metadata": {},
     "output_type": "execute_result"
    }
   ],
   "source": [
    "push!(LOAD_PATH, pwd()) # add working director to LOAD_PATH"
   ]
  },
  {
   "cell_type": "code",
   "execution_count": 252,
   "metadata": {},
   "outputs": [
    {
     "name": "stderr",
     "output_type": "stream",
     "text": [
      "┌ Info: Precompiling ExampleModule [top-level]\n",
      "└ @ Base loading.jl:1423\n"
     ]
    }
   ],
   "source": [
    "using ExampleModule"
   ]
  },
  {
   "cell_type": "code",
   "execution_count": 254,
   "metadata": {},
   "outputs": [
    {
     "name": "stdout",
     "output_type": "stream",
     "text": [
      "This is a fuction from ExampleModule.jl\n"
     ]
    }
   ],
   "source": [
    "# call the exported function\n",
    "exampleFunction()"
   ]
  },
  {
   "cell_type": "markdown",
   "metadata": {},
   "source": [
    "# Part 2: Important Julia design features to keep in mind "
   ]
  },
  {
   "cell_type": "markdown",
   "metadata": {},
   "source": [
    "## Scope\n",
    "Not all of the code knows about all variables. "
   ]
  },
  {
   "cell_type": "markdown",
   "metadata": {},
   "source": [
    "Variables defined within a function **are not** known to code outside of the function"
   ]
  },
  {
   "cell_type": "code",
   "execution_count": 213,
   "metadata": {},
   "outputs": [
    {
     "data": {
      "text/plain": [
       "2"
      ]
     },
     "execution_count": 213,
     "metadata": {},
     "output_type": "execute_result"
    }
   ],
   "source": [
    "function f()\n",
    "    a = 1\n",
    "    return nothing\n",
    "end\n",
    "\n",
    "a=2\n",
    "f()\n",
    "a"
   ]
  },
  {
   "cell_type": "markdown",
   "metadata": {},
   "source": [
    "Variables defined outside a function **are** known within the function"
   ]
  },
  {
   "cell_type": "code",
   "execution_count": 212,
   "metadata": {},
   "outputs": [
    {
     "name": "stdout",
     "output_type": "stream",
     "text": [
      "2\n"
     ]
    }
   ],
   "source": [
    "function f()\n",
    "    println(a)\n",
    "    return nothing\n",
    "end\n",
    "\n",
    "a = 2\n",
    "f()"
   ]
  },
  {
   "cell_type": "markdown",
   "metadata": {},
   "source": [
    "If a variable **is** defined before a loop, the changes to the variable will be seen outside the loop"
   ]
  },
  {
   "cell_type": "code",
   "execution_count": 218,
   "metadata": {},
   "outputs": [
    {
     "data": {
      "text/plain": [
       "1"
      ]
     },
     "execution_count": 218,
     "metadata": {},
     "output_type": "execute_result"
    }
   ],
   "source": [
    "a = 1\n",
    "for i in 1:2\n",
    "    a = 1\n",
    "end\n",
    "a"
   ]
  },
  {
   "cell_type": "markdown",
   "metadata": {},
   "source": [
    "If a variable **is not** defined before a loop, the variable is not known outside the loop"
   ]
  },
  {
   "cell_type": "code",
   "execution_count": 221,
   "metadata": {},
   "outputs": [
    {
     "ename": "LoadError",
     "evalue": "UndefVarError: p not defined",
     "output_type": "error",
     "traceback": [
      "UndefVarError: p not defined",
      "",
      "Stacktrace:",
      " [1] top-level scope",
      "   @ :0",
      " [2] eval",
      "   @ ./boot.jl:373 [inlined]",
      " [3] include_string(mapexpr::typeof(REPL.softscope), mod::Module, code::String, filename::String)",
      "   @ Base ./loading.jl:1196"
     ]
    }
   ],
   "source": [
    "a = 1\n",
    "for i in 1:2\n",
    "    p = 3\n",
    "end\n",
    "p"
   ]
  },
  {
   "cell_type": "markdown",
   "metadata": {},
   "source": [
    "## Arrays are not copied by default\n",
    "similar to numpy, not like matlab."
   ]
  },
  {
   "cell_type": "code",
   "execution_count": 224,
   "metadata": {},
   "outputs": [
    {
     "data": {
      "text/plain": [
       "3-element Vector{Int64}:\n",
       " 1\n",
       " 2\n",
       " 3"
      ]
     },
     "execution_count": 224,
     "metadata": {},
     "output_type": "execute_result"
    }
   ],
   "source": [
    "v = [1,2,3]"
   ]
  },
  {
   "cell_type": "code",
   "execution_count": 225,
   "metadata": {},
   "outputs": [
    {
     "data": {
      "text/plain": [
       "3-element Vector{Int64}:\n",
       " 1\n",
       " 2\n",
       " 3"
      ]
     },
     "execution_count": 225,
     "metadata": {},
     "output_type": "execute_result"
    }
   ],
   "source": [
    "u = v"
   ]
  },
  {
   "cell_type": "code",
   "execution_count": 227,
   "metadata": {},
   "outputs": [
    {
     "data": {
      "text/plain": [
       "3-element Vector{Int64}:\n",
       " 0\n",
       " 2\n",
       " 3"
      ]
     },
     "execution_count": 227,
     "metadata": {},
     "output_type": "execute_result"
    }
   ],
   "source": [
    "u[1] = 0\n",
    "u"
   ]
  },
  {
   "cell_type": "code",
   "execution_count": 229,
   "metadata": {},
   "outputs": [
    {
     "data": {
      "text/plain": [
       "3-element Vector{Int64}:\n",
       " 0\n",
       " 2\n",
       " 3"
      ]
     },
     "execution_count": 229,
     "metadata": {},
     "output_type": "execute_result"
    }
   ],
   "source": [
    "v # v is edited too."
   ]
  },
  {
   "cell_type": "code",
   "execution_count": 231,
   "metadata": {},
   "outputs": [
    {
     "data": {
      "text/plain": [
       "true"
      ]
     },
     "execution_count": 231,
     "metadata": {},
     "output_type": "execute_result"
    }
   ],
   "source": [
    "u === v # u and v reference same object in memory"
   ]
  },
  {
   "cell_type": "markdown",
   "metadata": {},
   "source": [
    "use copy to create a **new** array with the same entries"
   ]
  },
  {
   "cell_type": "code",
   "execution_count": 236,
   "metadata": {},
   "outputs": [
    {
     "data": {
      "text/plain": [
       "3-element Vector{Int64}:\n",
       " 0\n",
       " 2\n",
       " 3"
      ]
     },
     "execution_count": 236,
     "metadata": {},
     "output_type": "execute_result"
    }
   ],
   "source": [
    "v = [1,2,3]\n",
    "u = copy(v)\n",
    "u[1] = 0\n",
    "u"
   ]
  },
  {
   "cell_type": "code",
   "execution_count": 234,
   "metadata": {},
   "outputs": [
    {
     "data": {
      "text/plain": [
       "3-element Vector{Int64}:\n",
       " 1\n",
       " 2\n",
       " 3"
      ]
     },
     "execution_count": 234,
     "metadata": {},
     "output_type": "execute_result"
    }
   ],
   "source": [
    "v"
   ]
  },
  {
   "cell_type": "code",
   "execution_count": 235,
   "metadata": {},
   "outputs": [
    {
     "data": {
      "text/plain": [
       "false"
      ]
     },
     "execution_count": 235,
     "metadata": {},
     "output_type": "execute_result"
    }
   ],
   "source": [
    "v === u "
   ]
  },
  {
   "cell_type": "markdown",
   "metadata": {},
   "source": [
    "## Julia is \"pass by reference\" not \"pass by value\""
   ]
  },
  {
   "cell_type": "code",
   "execution_count": 239,
   "metadata": {},
   "outputs": [
    {
     "data": {
      "text/plain": [
       "3-element Vector{Int64}:\n",
       " 0\n",
       " 2\n",
       " 3"
      ]
     },
     "execution_count": 239,
     "metadata": {},
     "output_type": "execute_result"
    }
   ],
   "source": [
    "function f(v)\n",
    "    v[1] = 0\n",
    "    return nothing\n",
    "end\n",
    "\n",
    "v = [1,2,3]\n",
    "f(v)\n",
    "v"
   ]
  },
  {
   "cell_type": "markdown",
   "metadata": {},
   "source": [
    "Functions that edit their arguments are called inplace functions (often symbolized with ! to help the reader)."
   ]
  },
  {
   "cell_type": "code",
   "execution_count": 240,
   "metadata": {},
   "outputs": [
    {
     "data": {
      "text/plain": [
       "3-element Vector{Int64}:\n",
       " 0\n",
       " 0\n",
       " 0"
      ]
     },
     "execution_count": 240,
     "metadata": {},
     "output_type": "execute_result"
    }
   ],
   "source": [
    "v = [1,2,3]\n",
    "fill!(v, 0)\n",
    "v"
   ]
  },
  {
   "cell_type": "markdown",
   "metadata": {},
   "source": [
    "# Part 3: Loading and installing modules and packages."
   ]
  },
  {
   "cell_type": "markdown",
   "metadata": {},
   "source": [
    "### Loading packages"
   ]
  },
  {
   "cell_type": "markdown",
   "metadata": {},
   "source": [
    "To load julia modules use the `using` command"
   ]
  },
  {
   "cell_type": "code",
   "execution_count": 255,
   "metadata": {},
   "outputs": [],
   "source": [
    "using LinearAlgebra \n",
    "using Random"
   ]
  },
  {
   "cell_type": "markdown",
   "metadata": {},
   "source": [
    "Suppose I write my own module called `ExampleModule.jl` and its save in current working directory. Use `pwd()` to get the working directory."
   ]
  },
  {
   "cell_type": "code",
   "execution_count": 250,
   "metadata": {},
   "outputs": [
    {
     "data": {
      "text/plain": [
       "\"/home/erouviere/Dropbox/protevo/projects/Biophysics_workshop\""
      ]
     },
     "execution_count": 250,
     "metadata": {},
     "output_type": "execute_result"
    }
   ],
   "source": [
    "pwd() # print working directory"
   ]
  },
  {
   "cell_type": "markdown",
   "metadata": {},
   "source": [
    "Add the directory contain my module to the `LOAD_PATH`."
   ]
  },
  {
   "cell_type": "code",
   "execution_count": 251,
   "metadata": {},
   "outputs": [
    {
     "data": {
      "text/plain": [
       "4-element Vector{String}:\n",
       " \"@\"\n",
       " \"@v#.#\"\n",
       " \"@stdlib\"\n",
       " \"/home/erouviere/Dropbox/protevo/projects/Biophysics_workshop\""
      ]
     },
     "execution_count": 251,
     "metadata": {},
     "output_type": "execute_result"
    }
   ],
   "source": [
    "push!(LOAD_PATH, pwd()) # add working director to LOAD_PATH"
   ]
  },
  {
   "cell_type": "code",
   "execution_count": 256,
   "metadata": {},
   "outputs": [],
   "source": [
    "using ExampleModule"
   ]
  },
  {
   "cell_type": "code",
   "execution_count": 257,
   "metadata": {},
   "outputs": [
    {
     "name": "stdout",
     "output_type": "stream",
     "text": [
      "This is a fuction from ExampleModule.jl\n"
     ]
    }
   ],
   "source": [
    "# call the exported function\n",
    "exampleFunction()"
   ]
  },
  {
   "cell_type": "markdown",
   "metadata": {},
   "source": [
    "### Installing packages\n",
    "packages are installed using the Julia package manger `Pkg`."
   ]
  },
  {
   "cell_type": "code",
   "execution_count": 260,
   "metadata": {},
   "outputs": [],
   "source": [
    "# load the package manager\n",
    "using Pkg"
   ]
  },
  {
   "cell_type": "code",
   "execution_count": 261,
   "metadata": {},
   "outputs": [
    {
     "name": "stderr",
     "output_type": "stream",
     "text": [
      "\u001b[32m\u001b[1m   Resolving\u001b[22m\u001b[39m package versions...\n",
      "\u001b[32m\u001b[1m  No Changes\u001b[22m\u001b[39m to `~/.julia/environments/v1.7/Project.toml`\n",
      "\u001b[32m\u001b[1m  No Changes\u001b[22m\u001b[39m to `~/.julia/environments/v1.7/Manifest.toml`\n"
     ]
    }
   ],
   "source": [
    "Pkg.add(\"PyPlot\") # A julia wrapper around matplotlib pyplot"
   ]
  },
  {
   "cell_type": "code",
   "execution_count": 262,
   "metadata": {},
   "outputs": [],
   "source": [
    "using PyPlot # "
   ]
  },
  {
   "cell_type": "code",
   "execution_count": 264,
   "metadata": {},
   "outputs": [
    {
     "data": {
      "image/png": "[encoded data removed]",
      "text/plain": [
       "Figure(PyObject <Figure size 640x480 with 1 Axes>)"
      ]
     },
     "metadata": {},
     "output_type": "display_data"
    }
   ],
   "source": [
    "plot(1:10, rand(10));"
   ]
  },
  {
   "cell_type": "markdown",
   "metadata": {},
   "source": [
    "# Part 4: Some cool Julia features"
   ]
  },
  {
   "cell_type": "markdown",
   "metadata": {},
   "source": [
    "### Any unicode character is fair game\n",
    "\n",
    "for example type `\\lambda` then press tab."
   ]
  },
  {
   "cell_type": "code",
   "execution_count": 268,
   "metadata": {},
   "outputs": [
    {
     "data": {
      "text/plain": [
       "3"
      ]
     },
     "execution_count": 268,
     "metadata": {},
     "output_type": "execute_result"
    }
   ],
   "source": [
    "λ = 5\n",
    "β = 3"
   ]
  },
  {
   "cell_type": "markdown",
   "metadata": {},
   "source": [
    "Unicode works for functions too"
   ]
  },
  {
   "cell_type": "code",
   "execution_count": 269,
   "metadata": {},
   "outputs": [
    {
     "data": {
      "text/plain": [
       "5.074956549015184"
      ]
     },
     "execution_count": 269,
     "metadata": {},
     "output_type": "execute_result"
    }
   ],
   "source": [
    "Σ(v) = sum(v)\n",
    "v = rand(10)\n",
    "Σ(v)"
   ]
  },
  {
   "cell_type": "markdown",
   "metadata": {},
   "source": [
    "Emojies are unicode `\\:hourglass_flowing_sand:`"
   ]
  },
  {
   "cell_type": "code",
   "execution_count": 272,
   "metadata": {},
   "outputs": [
    {
     "name": "stdout",
     "output_type": "stream",
     "text": [
      "time to get up!\n"
     ]
    }
   ],
   "source": [
    "function ⏳(seconds)\n",
    "    sleep(seconds)\n",
    "    println(\"time to get up!\")\n",
    "end"
   ]
  },
  {
   "cell_type": "code",
   "execution_count": 273,
   "metadata": {},
   "outputs": [
    {
     "name": "stdout",
     "output_type": "stream",
     "text": [
      "time to get up!\n"
     ]
    }
   ],
   "source": [
    "⏳(2)"
   ]
  },
  {
   "cell_type": "markdown",
   "metadata": {},
   "source": [
    "To see the unicode full list go to (https://docs.julialang.org/en/v1/manual/unicode-input/)"
   ]
  },
  {
   "cell_type": "markdown",
   "metadata": {},
   "source": [
    "## Documentation is build in\n",
    "prefix the item you when to find with `?`"
   ]
  },
  {
   "cell_type": "code",
   "execution_count": 275,
   "metadata": {},
   "outputs": [
    {
     "name": "stdout",
     "output_type": "stream",
     "text": [
      "search: \u001b[0m\u001b[1mp\u001b[22m\u001b[0m\u001b[1mr\u001b[22m\u001b[0m\u001b[1mi\u001b[22m\u001b[0m\u001b[1mn\u001b[22m\u001b[0m\u001b[1mt\u001b[22m \u001b[0m\u001b[1mp\u001b[22m\u001b[0m\u001b[1mr\u001b[22m\u001b[0m\u001b[1mi\u001b[22m\u001b[0m\u001b[1mn\u001b[22m\u001b[0m\u001b[1mt\u001b[22mln \u001b[0m\u001b[1mp\u001b[22m\u001b[0m\u001b[1mr\u001b[22m\u001b[0m\u001b[1mi\u001b[22m\u001b[0m\u001b[1mn\u001b[22m\u001b[0m\u001b[1mt\u001b[22mstyled \u001b[0m\u001b[1mp\u001b[22m\u001b[0m\u001b[1mr\u001b[22m\u001b[0m\u001b[1mi\u001b[22m\u001b[0m\u001b[1mn\u001b[22m\u001b[0m\u001b[1mt\u001b[22mHelloWorld s\u001b[0m\u001b[1mp\u001b[22m\u001b[0m\u001b[1mr\u001b[22m\u001b[0m\u001b[1mi\u001b[22m\u001b[0m\u001b[1mn\u001b[22m\u001b[0m\u001b[1mt\u001b[22m is\u001b[0m\u001b[1mp\u001b[22m\u001b[0m\u001b[1mr\u001b[22m\u001b[0m\u001b[1mi\u001b[22m\u001b[0m\u001b[1mn\u001b[22m\u001b[0m\u001b[1mt\u001b[22m s\u001b[0m\u001b[1mp\u001b[22m\u001b[0m\u001b[1mr\u001b[22m\u001b[0m\u001b[1mi\u001b[22m\u001b[0m\u001b[1mn\u001b[22mg \u001b[0m\u001b[1mp\u001b[22m\u001b[0m\u001b[1mr\u001b[22mev\u001b[0m\u001b[1mi\u001b[22m\u001b[0m\u001b[1mn\u001b[22md\n",
      "\n"
     ]
    },
    {
     "data": {
      "text/latex": [
       "\\begin{verbatim}\n",
       "print([io::IO], xs...)\n",
       "\\end{verbatim}\n",
       "Write to \\texttt{io} (or to the default output stream \\href{@ref}{\\texttt{stdout}} if \\texttt{io} is not given) a canonical (un-decorated) text representation. The representation used by \\texttt{print} includes minimal formatting and tries to avoid Julia-specific details.\n",
       "\n",
       "\\texttt{print} falls back to calling \\texttt{show}, so most types should just define \\texttt{show}. Define \\texttt{print} if your type has a separate \"plain\" representation. For example, \\texttt{show} displays strings with quotes, and \\texttt{print} displays strings without quotes.\n",
       "\n",
       "See also \\href{@ref}{\\texttt{println}}, \\href{@ref}{\\texttt{string}}, \\href{@ref}{\\texttt{printstyled}}.\n",
       "\n",
       "\\section{Examples}\n",
       "\\begin{verbatim}\n",
       "julia> print(\"Hello World!\")\n",
       "Hello World!\n",
       "julia> io = IOBuffer();\n",
       "\n",
       "julia> print(io, \"Hello\", ' ', :World!)\n",
       "\n",
       "julia> String(take!(io))\n",
       "\"Hello World!\"\n",
       "\\end{verbatim}\n"
      ],
      "text/markdown": [
       "```\n",
       "print([io::IO], xs...)\n",
       "```\n",
       "\n",
       "Write to `io` (or to the default output stream [`stdout`](@ref) if `io` is not given) a canonical (un-decorated) text representation. The representation used by `print` includes minimal formatting and tries to avoid Julia-specific details.\n",
       "\n",
       "`print` falls back to calling `show`, so most types should just define `show`. Define `print` if your type has a separate \"plain\" representation. For example, `show` displays strings with quotes, and `print` displays strings without quotes.\n",
       "\n",
       "See also [`println`](@ref), [`string`](@ref), [`printstyled`](@ref).\n",
       "\n",
       "# Examples\n",
       "\n",
       "```jldoctest\n",
       "julia> print(\"Hello World!\")\n",
       "Hello World!\n",
       "julia> io = IOBuffer();\n",
       "\n",
       "julia> print(io, \"Hello\", ' ', :World!)\n",
       "\n",
       "julia> String(take!(io))\n",
       "\"Hello World!\"\n",
       "```\n"
      ],
      "text/plain": [
       "\u001b[36m  print([io::IO], xs...)\u001b[39m\n",
       "\n",
       "  Write to \u001b[36mio\u001b[39m (or to the default output stream \u001b[36mstdout\u001b[39m if \u001b[36mio\u001b[39m is not given) a\n",
       "  canonical (un-decorated) text representation. The representation used by\n",
       "  \u001b[36mprint\u001b[39m includes minimal formatting and tries to avoid Julia-specific details.\n",
       "\n",
       "  \u001b[36mprint\u001b[39m falls back to calling \u001b[36mshow\u001b[39m, so most types should just define \u001b[36mshow\u001b[39m.\n",
       "  Define \u001b[36mprint\u001b[39m if your type has a separate \"plain\" representation. For\n",
       "  example, \u001b[36mshow\u001b[39m displays strings with quotes, and \u001b[36mprint\u001b[39m displays strings\n",
       "  without quotes.\n",
       "\n",
       "  See also \u001b[36mprintln\u001b[39m, \u001b[36mstring\u001b[39m, \u001b[36mprintstyled\u001b[39m.\n",
       "\n",
       "\u001b[1m  Examples\u001b[22m\n",
       "\u001b[1m  ≡≡≡≡≡≡≡≡≡≡\u001b[22m\n",
       "\n",
       "\u001b[36m  julia> print(\"Hello World!\")\u001b[39m\n",
       "\u001b[36m  Hello World!\u001b[39m\n",
       "\u001b[36m  julia> io = IOBuffer();\u001b[39m\n",
       "\u001b[36m  \u001b[39m\n",
       "\u001b[36m  julia> print(io, \"Hello\", ' ', :World!)\u001b[39m\n",
       "\u001b[36m  \u001b[39m\n",
       "\u001b[36m  julia> String(take!(io))\u001b[39m\n",
       "\u001b[36m  \"Hello World!\"\u001b[39m"
      ]
     },
     "execution_count": 275,
     "metadata": {},
     "output_type": "execute_result"
    }
   ],
   "source": [
    "?print"
   ]
  },
  {
   "cell_type": "code",
   "execution_count": 276,
   "metadata": {},
   "outputs": [
    {
     "name": "stdout",
     "output_type": "stream",
     "text": [
      "search: \u001b[0m\u001b[1mf\u001b[22m\u001b[0m\u001b[1mo\u001b[22m\u001b[0m\u001b[1mr\u001b[22m \u001b[0m\u001b[1mf\u001b[22m\u001b[0m\u001b[1mo\u001b[22m\u001b[0m\u001b[1mr\u001b[22meach Uni\u001b[0m\u001b[1mf\u001b[22m\u001b[0m\u001b[1mo\u001b[22m\u001b[0m\u001b[1mr\u001b[22mmScaling wait\u001b[0m\u001b[1mf\u001b[22m\u001b[0m\u001b[1mo\u001b[22m\u001b[0m\u001b[1mr\u001b[22mbuttonpress \u001b[0m\u001b[1mf\u001b[22m\u001b[0m\u001b[1mo\u001b[22mld\u001b[0m\u001b[1mr\u001b[22m \u001b[0m\u001b[1mf\u001b[22ml\u001b[0m\u001b[1mo\u001b[22mo\u001b[0m\u001b[1mr\u001b[22m\n",
      "\n"
     ]
    },
    {
     "data": {
      "text/latex": [
       "\\begin{verbatim}\n",
       "for\n",
       "\\end{verbatim}\n",
       "\\texttt{for} loops repeatedly evaluate a block of statements while iterating over a sequence of values.\n",
       "\n",
       "\\section{Examples}\n",
       "\\begin{verbatim}\n",
       "julia> for i in [1, 4, 0]\n",
       "           println(i)\n",
       "       end\n",
       "1\n",
       "4\n",
       "0\n",
       "\\end{verbatim}\n"
      ],
      "text/markdown": [
       "```\n",
       "for\n",
       "```\n",
       "\n",
       "`for` loops repeatedly evaluate a block of statements while iterating over a sequence of values.\n",
       "\n",
       "# Examples\n",
       "\n",
       "```jldoctest\n",
       "julia> for i in [1, 4, 0]\n",
       "           println(i)\n",
       "       end\n",
       "1\n",
       "4\n",
       "0\n",
       "```\n"
      ],
      "text/plain": [
       "\u001b[36m  for\u001b[39m\n",
       "\n",
       "  \u001b[36mfor\u001b[39m loops repeatedly evaluate a block of statements while iterating over a\n",
       "  sequence of values.\n",
       "\n",
       "\u001b[1m  Examples\u001b[22m\n",
       "\u001b[1m  ≡≡≡≡≡≡≡≡≡≡\u001b[22m\n",
       "\n",
       "\u001b[36m  julia> for i in [1, 4, 0]\u001b[39m\n",
       "\u001b[36m             println(i)\u001b[39m\n",
       "\u001b[36m         end\u001b[39m\n",
       "\u001b[36m  1\u001b[39m\n",
       "\u001b[36m  4\u001b[39m\n",
       "\u001b[36m  0\u001b[39m"
      ]
     },
     "execution_count": 276,
     "metadata": {},
     "output_type": "execute_result"
    }
   ],
   "source": [
    "?for"
   ]
  },
  {
   "cell_type": "code",
   "execution_count": 277,
   "metadata": {},
   "outputs": [
    {
     "name": "stdout",
     "output_type": "stream",
     "text": [
      "ExampleModule.jl\n",
      "Notebook-1_introduction_to_progaming_with_julia.ipynb\n",
      "src\n"
     ]
    }
   ],
   "source": [
    "; ls"
   ]
  },
  {
   "cell_type": "markdown",
   "metadata": {},
   "source": [
    "## Bash shell is built in\n",
    "type `;` then your shell command"
   ]
  },
  {
   "cell_type": "code",
   "execution_count": 280,
   "metadata": {},
   "outputs": [
    {
     "name": "stdout",
     "output_type": "stream",
     "text": [
      "/home/erouviere/Dropbox/protevo/projects/Biophysics_workshop\n"
     ]
    }
   ],
   "source": [
    "; pwd"
   ]
  },
  {
   "cell_type": "code",
   "execution_count": 281,
   "metadata": {},
   "outputs": [
    {
     "name": "stdout",
     "output_type": "stream",
     "text": [
      "ExampleModule.jl\n",
      "Notebook-1_introduction_to_progaming_with_julia.ipynb\n",
      "src\n"
     ]
    }
   ],
   "source": [
    "; ls"
   ]
  },
  {
   "cell_type": "code",
   "execution_count": 282,
   "metadata": {},
   "outputs": [
    {
     "name": "stdout",
     "output_type": "stream",
     "text": [
      "5\n"
     ]
    }
   ],
   "source": [
    "; echo 5"
   ]
  },
  {
   "cell_type": "code",
   "execution_count": 293,
   "metadata": {},
   "outputs": [
    {
     "name": "stdout",
     "output_type": "stream",
     "text": [
      "Filesystem      Size  Used Avail Use% Mounted on\n",
      "udev             17G     0   17G   0% /dev\n",
      "tmpfs           3.4G  2.5M  3.4G   1% /run\n",
      "/dev/nvme0n1p2  491G  293G  174G  63% /\n",
      "tmpfs            17G   70M   17G   1% /dev/shm\n",
      "tmpfs           5.3M  4.1k  5.3M   1% /run/lock\n",
      "tmpfs            17G     0   17G   0% /sys/fs/cgroup\n",
      "/dev/loop1      656k  656k     0 100% /snap/gnome-logs/106\n",
      "/dev/loop2       59M   59M     0 100% /snap/core18/2538\n",
      "/dev/nvme0n1p1  536M  4.6M  532M   1% /boot/efi\n",
      "/dev/loop3      120M  120M     0 100% /snap/core/13425\n",
      "/dev/loop4      2.7M  2.7M     0 100% /snap/gnome-calculator/884\n",
      "/dev/loop5      311M  311M     0 100% /snap/vlc/2344\n",
      "/dev/loop0      2.8M  2.8M     0 100% /snap/gnome-system-monitor/178\n",
      "/dev/loop7      310M  310M     0 100% /snap/vlc/2288\n",
      "/dev/loop6      421M  421M     0 100% /snap/gnome-3-38-2004/112\n",
      "/dev/md0        4.0T  374G  3.4T  10% /mnt/md0\n",
      "/dev/loop9      787k  787k     0 100% /snap/gnome-characters/761\n",
      "/dev/loop10      86M   86M     0 100% /snap/gtk-common-themes/1534\n",
      "/dev/loop8      178M  178M     0 100% /snap/spotify/60\n",
      "/dev/loop11      97M   97M     0 100% /snap/gtk-common-themes/1535\n",
      "/dev/loop12     267M  267M     0 100% /snap/gnome-3-38-2004/106\n",
      "/dev/loop13     171M  171M     0 100% /snap/gnome-3-28-1804/145\n",
      "/dev/loop15     178M  178M     0 100% /snap/spotify/58\n",
      "/dev/loop14      66M   66M     0 100% /snap/core20/1593\n",
      "/dev/loop16     656k  656k     0 100% /snap/gnome-logs/112\n",
      "/dev/loop17     305M  305M     0 100% /snap/kde-frameworks-5-qt-5-14-core18/4\n",
      "/dev/loop19     230M  230M     0 100% /snap/gnome-3-34-1804/72\n",
      "/dev/loop18     118M  118M     0 100% /snap/core/13250\n",
      "/dev/loop20     148M  148M     0 100% /snap/gnome-3-26-1604/102\n",
      "/dev/loop21      59M   59M     0 100% /snap/core18/2409\n",
      "/dev/loop23     230M  230M     0 100% /snap/gnome-3-34-1804/77\n",
      "/dev/loop22     173M  173M     0 100% /snap/gnome-3-28-1804/161\n",
      "/dev/loop24     126M  126M     0 100% /snap/remarkable/5\n",
      "/dev/loop26     340M  340M     0 100% /snap/kde-frameworks-5-qt-5-15-core20/14\n",
      "/dev/loop27      19M   19M     0 100% /snap/pdftk/9\n",
      "/dev/loop28     2.8M  2.8M     0 100% /snap/gnome-calculator/920\n",
      "/dev/loop29     132k  132k     0 100% /snap/bare/5\n",
      "/dev/loop30     148M  148M     0 100% /snap/gnome-3-26-1604/104\n",
      "/dev/loop31     158M  158M     0 100% /snap/okular/109\n",
      "/dev/loop32      66M   66M     0 100% /snap/core20/1611\n",
      "/dev/loop33     787k  787k     0 100% /snap/gnome-characters/741\n",
      "/dev/loop34     2.8M  2.8M     0 100% /snap/gnome-system-monitor/174\n",
      "tmpfs           3.4G   17k  3.4G   1% /run/user/121\n",
      "tmpfs           3.4G  123k  3.4G   1% /run/user/1000\n",
      "/dev/loop35     197M  197M     0 100% /snap/okular/115\n",
      "/dev/loop36     458M  458M     0 100% /snap/kde-frameworks-5-96-qt-5-15-5-core20/7\n"
     ]
    }
   ],
   "source": [
    "; df -H"
   ]
  },
  {
   "cell_type": "markdown",
   "metadata": {},
   "source": [
    "## Package manager is build in\n",
    "type `]` then a package manager command"
   ]
  },
  {
   "cell_type": "code",
   "execution_count": null,
   "metadata": {},
   "outputs": [],
   "source": [
    "] add BenchMarkTools"
   ]
  },
  {
   "cell_type": "code",
   "execution_count": null,
   "metadata": {},
   "outputs": [],
   "source": []
  }
 ],
 "metadata": {
  "kernelspec": {
   "display_name": "Julia 1.7.2",
   "language": "julia",
   "name": "julia-1.7"
  },
  "language_info": {
   "file_extension": ".jl",
   "mimetype": "application/julia",
   "name": "julia",
   "version": "1.7.2"
  }
 },
 "nbformat": 4,
 "nbformat_minor": 2
}
