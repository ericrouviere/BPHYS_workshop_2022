{
 "cells": [
  {
   "cell_type": "markdown",
   "metadata": {},
   "source": [
    "# Notebook 7: Monte Carlo Evolution. "
   ]
  },
  {
   "cell_type": "markdown",
   "metadata": {},
   "source": [
    "To evolve a network we are going to use the Metropolis Monte Carlo algorithm.\n",
    "\n",
    "Suppose you have a physical system with energy $E(r)$.\n",
    "\n",
    "1. Start at a position $r$\n",
    "2. compute energy $E(r)$\n",
    "3. propose a new $r' = r + \\Delta r$, with random $\\Delta r$.\n",
    "4. compute energy $E(r')$\n",
    "5. generate a random number $p$ between 0 and 1, $p = \\rm{unif}(0,1)$\n",
    "6. if $p < \\exp( -(E(r') - E(r))/T)$; set $r \\leftarrow r'$\n",
    "7. go to step 3 and repeat.\n",
    "\n",
    "Instead to walking around $E(r)$ we will be walking around *Fitness*(*sequence*)."
   ]
  },
  {
   "cell_type": "code",
   "execution_count": 11,
   "metadata": {},
   "outputs": [],
   "source": [
    "using Revise, LinearAlgebra, PyPlot, LaTeXStrings, BenchmarkTools\n",
    "push!(LOAD_PATH, \"../src/\")\n",
    "using Elastic_N3, Elastic_N4, Elastic_N5, Elastic_N6, Elastic_N7"
   ]
  },
  {
   "cell_type": "markdown",
   "metadata": {},
   "source": [
    "### Steps in sequence space -- mutations.\n",
    "\n",
    "Write a function called ``mutate!`` that\n",
    "1. Takes a ``Network`` object as an argument.\n",
    "2. Mutates the sequence by randomly changing one ''amino acid'' to a different random 1 one.\n",
    "3. updates the spring matrix ``S`` and the Hessian matrix ``H``."
   ]
  },
  {
   "cell_type": "code",
   "execution_count": 18,
   "metadata": {},
   "outputs": [
    {
     "data": {
      "text/plain": [
       "mutate! (generic function with 1 method)"
      ]
     },
     "execution_count": 18,
     "metadata": {},
     "output_type": "execute_result"
    }
   ],
   "source": [
    "function mutate!(net::Network)\n",
    "    # mutate a sequence and update the network object.\n",
    "    \n",
    "    \n",
    "    # Fill in here.\n",
    "    \n",
    "    \n",
    "    return nothing\n",
    "end"
   ]
  },
  {
   "cell_type": "markdown",
   "metadata": {},
   "source": [
    "### Evolutionary Monte Carlo.\n",
    "\n",
    "Write a function called ``evolve`` that\n",
    "1. Takes arguments\n",
    "    1. a network\n",
    "    2. a sites list\n",
    "    3. a strains list\n",
    "    4. an evolutionary temperature,\n",
    "    5. an integer number of MC step.\n",
    "2. Evolves the network with a Monte Carlo process.\n",
    "3. Records all fitness at every iteration.\n",
    "4. Return the evolved network and a vector of fitnesses."
   ]
  },
  {
   "cell_type": "code",
   "execution_count": 16,
   "metadata": {},
   "outputs": [
    {
     "data": {
      "text/plain": [
       "evolve (generic function with 1 method)"
      ]
     },
     "execution_count": 16,
     "metadata": {},
     "output_type": "execute_result"
    }
   ],
   "source": [
    "function evolve(net::Network, sites, strains, T, numSteps)\n",
    "    net = deepcopy(net) # makes a copy of the network.\n",
    "    \n",
    "    # Fill in here\n",
    "    \n",
    "    return net, fitnesses\n",
    "end"
   ]
  },
  {
   "cell_type": "markdown",
   "metadata": {},
   "source": [
    "#### 1.)  Plot Fitness vs. MC iteration. \n",
    "How do the results depend on evolutionary temperature?"
   ]
  },
  {
   "cell_type": "code",
   "execution_count": null,
   "metadata": {},
   "outputs": [],
   "source": []
  },
  {
   "cell_type": "markdown",
   "metadata": {},
   "source": [
    "#### 2.) Plot the response of the *random* and *evolved* networks for the three binding conditions.\n",
    "1. Strain applied to active site.\n",
    "2. Strain applied to allosteric site.\n",
    "3. Strain applied to both sites."
   ]
  },
  {
   "cell_type": "code",
   "execution_count": null,
   "metadata": {},
   "outputs": [],
   "source": []
  },
  {
   "cell_type": "markdown",
   "metadata": {},
   "source": [
    "#### 3.) Plot the overlap of each response with each normal mode of the Hessian. For both the random and evolve network.\n",
    "How do results depend on system size.\n"
   ]
  },
  {
   "cell_type": "code",
   "execution_count": null,
   "metadata": {},
   "outputs": [],
   "source": []
  }
 ],
 "metadata": {
  "kernelspec": {
   "display_name": "Julia 1.7.2",
   "language": "julia",
   "name": "julia-1.7"
  },
  "language_info": {
   "file_extension": ".jl",
   "mimetype": "application/julia",
   "name": "julia",
   "version": "1.7.2"
  }
 },
 "nbformat": 4,
 "nbformat_minor": 4
}
